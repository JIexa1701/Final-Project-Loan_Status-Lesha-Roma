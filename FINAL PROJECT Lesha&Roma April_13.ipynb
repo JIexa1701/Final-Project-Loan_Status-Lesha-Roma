{
 "cells": [
  {
   "cell_type": "code",
   "execution_count": 1,
   "metadata": {},
   "outputs": [],
   "source": [
    "import pandas as pd\n",
    "import numpy as np\n",
    "from sklearn.model_selection import train_test_split\n",
    "from sklearn import tree\n",
    "from sklearn.ensemble import BaggingClassifier, BaggingRegressor, RandomForestClassifier\n",
    "from sklearn.metrics import roc_curve, auc, accuracy_score\n",
    "from sklearn.model_selection import GridSearchCV\n",
    "import matplotlib.pyplot as plt\n",
    "from sklearn.metrics import roc_auc_score, f1_score\n",
    "from sklearn.preprocessing import LabelEncoder\n",
    "import seaborn as sns\n",
    "\n",
    "from plotly.offline import init_notebook_mode, iplot\n",
    "from plotly import tools\n",
    "from scipy import stats\n",
    "import plotly.graph_objs as go\n",
    "\n",
    "plt.style.use('bmh')"
   ]
  },
  {
   "cell_type": "code",
   "execution_count": 2,
   "metadata": {},
   "outputs": [
    {
     "name": "stderr",
     "output_type": "stream",
     "text": [
      "C:\\Users\\user\\Anaconda3\\lib\\site-packages\\IPython\\core\\interactiveshell.py:3058: DtypeWarning:\n",
      "\n",
      "Columns (19,55) have mixed types. Specify dtype option on import or set low_memory=False.\n",
      "\n"
     ]
    },
    {
     "data": {
      "text/html": [
       "<div>\n",
       "<style scoped>\n",
       "    .dataframe tbody tr th:only-of-type {\n",
       "        vertical-align: middle;\n",
       "    }\n",
       "\n",
       "    .dataframe tbody tr th {\n",
       "        vertical-align: top;\n",
       "    }\n",
       "\n",
       "    .dataframe thead th {\n",
       "        text-align: right;\n",
       "    }\n",
       "</style>\n",
       "<table border=\"1\" class=\"dataframe\">\n",
       "  <thead>\n",
       "    <tr style=\"text-align: right;\">\n",
       "      <th></th>\n",
       "      <th>id</th>\n",
       "      <th>member_id</th>\n",
       "      <th>loan_amnt</th>\n",
       "      <th>funded_amnt</th>\n",
       "      <th>funded_amnt_inv</th>\n",
       "      <th>term</th>\n",
       "      <th>int_rate</th>\n",
       "      <th>installment</th>\n",
       "      <th>grade</th>\n",
       "      <th>sub_grade</th>\n",
       "      <th>...</th>\n",
       "      <th>total_bal_il</th>\n",
       "      <th>il_util</th>\n",
       "      <th>open_rv_12m</th>\n",
       "      <th>open_rv_24m</th>\n",
       "      <th>max_bal_bc</th>\n",
       "      <th>all_util</th>\n",
       "      <th>total_rev_hi_lim</th>\n",
       "      <th>inq_fi</th>\n",
       "      <th>total_cu_tl</th>\n",
       "      <th>inq_last_12m</th>\n",
       "    </tr>\n",
       "  </thead>\n",
       "  <tbody>\n",
       "    <tr>\n",
       "      <th>0</th>\n",
       "      <td>1077501</td>\n",
       "      <td>1296599</td>\n",
       "      <td>5000.0</td>\n",
       "      <td>5000.0</td>\n",
       "      <td>4975.0</td>\n",
       "      <td>36 months</td>\n",
       "      <td>10.65</td>\n",
       "      <td>162.87</td>\n",
       "      <td>B</td>\n",
       "      <td>B2</td>\n",
       "      <td>...</td>\n",
       "      <td>NaN</td>\n",
       "      <td>NaN</td>\n",
       "      <td>NaN</td>\n",
       "      <td>NaN</td>\n",
       "      <td>NaN</td>\n",
       "      <td>NaN</td>\n",
       "      <td>NaN</td>\n",
       "      <td>NaN</td>\n",
       "      <td>NaN</td>\n",
       "      <td>NaN</td>\n",
       "    </tr>\n",
       "    <tr>\n",
       "      <th>1</th>\n",
       "      <td>1077430</td>\n",
       "      <td>1314167</td>\n",
       "      <td>2500.0</td>\n",
       "      <td>2500.0</td>\n",
       "      <td>2500.0</td>\n",
       "      <td>60 months</td>\n",
       "      <td>15.27</td>\n",
       "      <td>59.83</td>\n",
       "      <td>C</td>\n",
       "      <td>C4</td>\n",
       "      <td>...</td>\n",
       "      <td>NaN</td>\n",
       "      <td>NaN</td>\n",
       "      <td>NaN</td>\n",
       "      <td>NaN</td>\n",
       "      <td>NaN</td>\n",
       "      <td>NaN</td>\n",
       "      <td>NaN</td>\n",
       "      <td>NaN</td>\n",
       "      <td>NaN</td>\n",
       "      <td>NaN</td>\n",
       "    </tr>\n",
       "    <tr>\n",
       "      <th>2</th>\n",
       "      <td>1077175</td>\n",
       "      <td>1313524</td>\n",
       "      <td>2400.0</td>\n",
       "      <td>2400.0</td>\n",
       "      <td>2400.0</td>\n",
       "      <td>36 months</td>\n",
       "      <td>15.96</td>\n",
       "      <td>84.33</td>\n",
       "      <td>C</td>\n",
       "      <td>C5</td>\n",
       "      <td>...</td>\n",
       "      <td>NaN</td>\n",
       "      <td>NaN</td>\n",
       "      <td>NaN</td>\n",
       "      <td>NaN</td>\n",
       "      <td>NaN</td>\n",
       "      <td>NaN</td>\n",
       "      <td>NaN</td>\n",
       "      <td>NaN</td>\n",
       "      <td>NaN</td>\n",
       "      <td>NaN</td>\n",
       "    </tr>\n",
       "    <tr>\n",
       "      <th>3</th>\n",
       "      <td>1076863</td>\n",
       "      <td>1277178</td>\n",
       "      <td>10000.0</td>\n",
       "      <td>10000.0</td>\n",
       "      <td>10000.0</td>\n",
       "      <td>36 months</td>\n",
       "      <td>13.49</td>\n",
       "      <td>339.31</td>\n",
       "      <td>C</td>\n",
       "      <td>C1</td>\n",
       "      <td>...</td>\n",
       "      <td>NaN</td>\n",
       "      <td>NaN</td>\n",
       "      <td>NaN</td>\n",
       "      <td>NaN</td>\n",
       "      <td>NaN</td>\n",
       "      <td>NaN</td>\n",
       "      <td>NaN</td>\n",
       "      <td>NaN</td>\n",
       "      <td>NaN</td>\n",
       "      <td>NaN</td>\n",
       "    </tr>\n",
       "    <tr>\n",
       "      <th>4</th>\n",
       "      <td>1075358</td>\n",
       "      <td>1311748</td>\n",
       "      <td>3000.0</td>\n",
       "      <td>3000.0</td>\n",
       "      <td>3000.0</td>\n",
       "      <td>60 months</td>\n",
       "      <td>12.69</td>\n",
       "      <td>67.79</td>\n",
       "      <td>B</td>\n",
       "      <td>B5</td>\n",
       "      <td>...</td>\n",
       "      <td>NaN</td>\n",
       "      <td>NaN</td>\n",
       "      <td>NaN</td>\n",
       "      <td>NaN</td>\n",
       "      <td>NaN</td>\n",
       "      <td>NaN</td>\n",
       "      <td>NaN</td>\n",
       "      <td>NaN</td>\n",
       "      <td>NaN</td>\n",
       "      <td>NaN</td>\n",
       "    </tr>\n",
       "  </tbody>\n",
       "</table>\n",
       "<p>5 rows × 74 columns</p>\n",
       "</div>"
      ],
      "text/plain": [
       "        id  member_id  loan_amnt  funded_amnt  funded_amnt_inv        term  \\\n",
       "0  1077501    1296599     5000.0       5000.0           4975.0   36 months   \n",
       "1  1077430    1314167     2500.0       2500.0           2500.0   60 months   \n",
       "2  1077175    1313524     2400.0       2400.0           2400.0   36 months   \n",
       "3  1076863    1277178    10000.0      10000.0          10000.0   36 months   \n",
       "4  1075358    1311748     3000.0       3000.0           3000.0   60 months   \n",
       "\n",
       "   int_rate  installment grade sub_grade  ... total_bal_il il_util  \\\n",
       "0     10.65       162.87     B        B2  ...          NaN     NaN   \n",
       "1     15.27        59.83     C        C4  ...          NaN     NaN   \n",
       "2     15.96        84.33     C        C5  ...          NaN     NaN   \n",
       "3     13.49       339.31     C        C1  ...          NaN     NaN   \n",
       "4     12.69        67.79     B        B5  ...          NaN     NaN   \n",
       "\n",
       "  open_rv_12m  open_rv_24m max_bal_bc all_util total_rev_hi_lim inq_fi  \\\n",
       "0         NaN          NaN        NaN      NaN              NaN    NaN   \n",
       "1         NaN          NaN        NaN      NaN              NaN    NaN   \n",
       "2         NaN          NaN        NaN      NaN              NaN    NaN   \n",
       "3         NaN          NaN        NaN      NaN              NaN    NaN   \n",
       "4         NaN          NaN        NaN      NaN              NaN    NaN   \n",
       "\n",
       "  total_cu_tl inq_last_12m  \n",
       "0         NaN          NaN  \n",
       "1         NaN          NaN  \n",
       "2         NaN          NaN  \n",
       "3         NaN          NaN  \n",
       "4         NaN          NaN  \n",
       "\n",
       "[5 rows x 74 columns]"
      ]
     },
     "execution_count": 2,
     "metadata": {},
     "output_type": "execute_result"
    }
   ],
   "source": [
    "# loading data to df\n",
    "\n",
    "df_1 = pd.read_csv(r'C:\\Users\\user\\!!DevRepublik\\!Final_project\\!Loan_risk\\loan.csv') # Roma\n",
    "# df_1 = pd.read_csv(r\"C:\\Users\\User\\Desktop\\Phyton\\Data Science\\loan\\loan.csv\") #Alex\n",
    "\n",
    "df_1.head()"
   ]
  },
  {
   "cell_type": "code",
   "execution_count": 3,
   "metadata": {},
   "outputs": [
    {
     "data": {
      "text/plain": [
       "(887379, 74)"
      ]
     },
     "execution_count": 3,
     "metadata": {},
     "output_type": "execute_result"
    }
   ],
   "source": [
    "df_1.shape"
   ]
  },
  {
   "cell_type": "code",
   "execution_count": 4,
   "metadata": {},
   "outputs": [
    {
     "data": {
      "text/html": [
       "<div>\n",
       "<style scoped>\n",
       "    .dataframe tbody tr th:only-of-type {\n",
       "        vertical-align: middle;\n",
       "    }\n",
       "\n",
       "    .dataframe tbody tr th {\n",
       "        vertical-align: top;\n",
       "    }\n",
       "\n",
       "    .dataframe thead th {\n",
       "        text-align: right;\n",
       "    }\n",
       "</style>\n",
       "<table border=\"1\" class=\"dataframe\">\n",
       "  <thead>\n",
       "    <tr style=\"text-align: right;\">\n",
       "      <th></th>\n",
       "      <th>id</th>\n",
       "      <th>member_id</th>\n",
       "      <th>loan_amnt</th>\n",
       "      <th>funded_amnt</th>\n",
       "      <th>funded_amnt_inv</th>\n",
       "      <th>term</th>\n",
       "      <th>int_rate</th>\n",
       "      <th>installment</th>\n",
       "      <th>grade</th>\n",
       "      <th>sub_grade</th>\n",
       "      <th>...</th>\n",
       "      <th>il_util</th>\n",
       "      <th>open_rv_12m</th>\n",
       "      <th>open_rv_24m</th>\n",
       "      <th>max_bal_bc</th>\n",
       "      <th>all_util</th>\n",
       "      <th>total_rev_hi_lim</th>\n",
       "      <th>inq_fi</th>\n",
       "      <th>total_cu_tl</th>\n",
       "      <th>inq_last_12m</th>\n",
       "      <th>solvency</th>\n",
       "    </tr>\n",
       "  </thead>\n",
       "  <tbody>\n",
       "    <tr>\n",
       "      <th>0</th>\n",
       "      <td>1077501</td>\n",
       "      <td>1296599</td>\n",
       "      <td>5000.0</td>\n",
       "      <td>5000.0</td>\n",
       "      <td>4975.0</td>\n",
       "      <td>36 months</td>\n",
       "      <td>10.65</td>\n",
       "      <td>162.87</td>\n",
       "      <td>B</td>\n",
       "      <td>B2</td>\n",
       "      <td>...</td>\n",
       "      <td>NaN</td>\n",
       "      <td>NaN</td>\n",
       "      <td>NaN</td>\n",
       "      <td>NaN</td>\n",
       "      <td>NaN</td>\n",
       "      <td>NaN</td>\n",
       "      <td>NaN</td>\n",
       "      <td>NaN</td>\n",
       "      <td>NaN</td>\n",
       "      <td>147.356788</td>\n",
       "    </tr>\n",
       "    <tr>\n",
       "      <th>1</th>\n",
       "      <td>1077430</td>\n",
       "      <td>1314167</td>\n",
       "      <td>2500.0</td>\n",
       "      <td>2500.0</td>\n",
       "      <td>2500.0</td>\n",
       "      <td>60 months</td>\n",
       "      <td>15.27</td>\n",
       "      <td>59.83</td>\n",
       "      <td>C</td>\n",
       "      <td>C4</td>\n",
       "      <td>...</td>\n",
       "      <td>NaN</td>\n",
       "      <td>NaN</td>\n",
       "      <td>NaN</td>\n",
       "      <td>NaN</td>\n",
       "      <td>NaN</td>\n",
       "      <td>NaN</td>\n",
       "      <td>NaN</td>\n",
       "      <td>NaN</td>\n",
       "      <td>NaN</td>\n",
       "      <td>501.420692</td>\n",
       "    </tr>\n",
       "    <tr>\n",
       "      <th>2</th>\n",
       "      <td>1077175</td>\n",
       "      <td>1313524</td>\n",
       "      <td>2400.0</td>\n",
       "      <td>2400.0</td>\n",
       "      <td>2400.0</td>\n",
       "      <td>36 months</td>\n",
       "      <td>15.96</td>\n",
       "      <td>84.33</td>\n",
       "      <td>C</td>\n",
       "      <td>C5</td>\n",
       "      <td>...</td>\n",
       "      <td>NaN</td>\n",
       "      <td>NaN</td>\n",
       "      <td>NaN</td>\n",
       "      <td>NaN</td>\n",
       "      <td>NaN</td>\n",
       "      <td>NaN</td>\n",
       "      <td>NaN</td>\n",
       "      <td>NaN</td>\n",
       "      <td>NaN</td>\n",
       "      <td>145.286375</td>\n",
       "    </tr>\n",
       "    <tr>\n",
       "      <th>3</th>\n",
       "      <td>1076863</td>\n",
       "      <td>1277178</td>\n",
       "      <td>10000.0</td>\n",
       "      <td>10000.0</td>\n",
       "      <td>10000.0</td>\n",
       "      <td>36 months</td>\n",
       "      <td>13.49</td>\n",
       "      <td>339.31</td>\n",
       "      <td>C</td>\n",
       "      <td>C1</td>\n",
       "      <td>...</td>\n",
       "      <td>NaN</td>\n",
       "      <td>NaN</td>\n",
       "      <td>NaN</td>\n",
       "      <td>NaN</td>\n",
       "      <td>NaN</td>\n",
       "      <td>NaN</td>\n",
       "      <td>NaN</td>\n",
       "      <td>NaN</td>\n",
       "      <td>NaN</td>\n",
       "      <td>145.000147</td>\n",
       "    </tr>\n",
       "    <tr>\n",
       "      <th>4</th>\n",
       "      <td>1075358</td>\n",
       "      <td>1311748</td>\n",
       "      <td>3000.0</td>\n",
       "      <td>3000.0</td>\n",
       "      <td>3000.0</td>\n",
       "      <td>60 months</td>\n",
       "      <td>12.69</td>\n",
       "      <td>67.79</td>\n",
       "      <td>B</td>\n",
       "      <td>B5</td>\n",
       "      <td>...</td>\n",
       "      <td>NaN</td>\n",
       "      <td>NaN</td>\n",
       "      <td>NaN</td>\n",
       "      <td>NaN</td>\n",
       "      <td>NaN</td>\n",
       "      <td>NaN</td>\n",
       "      <td>NaN</td>\n",
       "      <td>NaN</td>\n",
       "      <td>NaN</td>\n",
       "      <td>1180.115061</td>\n",
       "    </tr>\n",
       "  </tbody>\n",
       "</table>\n",
       "<p>5 rows × 75 columns</p>\n",
       "</div>"
      ],
      "text/plain": [
       "        id  member_id  loan_amnt  funded_amnt  funded_amnt_inv        term  \\\n",
       "0  1077501    1296599     5000.0       5000.0           4975.0   36 months   \n",
       "1  1077430    1314167     2500.0       2500.0           2500.0   60 months   \n",
       "2  1077175    1313524     2400.0       2400.0           2400.0   36 months   \n",
       "3  1076863    1277178    10000.0      10000.0          10000.0   36 months   \n",
       "4  1075358    1311748     3000.0       3000.0           3000.0   60 months   \n",
       "\n",
       "   int_rate  installment grade sub_grade  ... il_util open_rv_12m open_rv_24m  \\\n",
       "0     10.65       162.87     B        B2  ...     NaN         NaN         NaN   \n",
       "1     15.27        59.83     C        C4  ...     NaN         NaN         NaN   \n",
       "2     15.96        84.33     C        C5  ...     NaN         NaN         NaN   \n",
       "3     13.49       339.31     C        C1  ...     NaN         NaN         NaN   \n",
       "4     12.69        67.79     B        B5  ...     NaN         NaN         NaN   \n",
       "\n",
       "   max_bal_bc all_util total_rev_hi_lim inq_fi total_cu_tl inq_last_12m  \\\n",
       "0         NaN      NaN              NaN    NaN         NaN          NaN   \n",
       "1         NaN      NaN              NaN    NaN         NaN          NaN   \n",
       "2         NaN      NaN              NaN    NaN         NaN          NaN   \n",
       "3         NaN      NaN              NaN    NaN         NaN          NaN   \n",
       "4         NaN      NaN              NaN    NaN         NaN          NaN   \n",
       "\n",
       "      solvency  \n",
       "0   147.356788  \n",
       "1   501.420692  \n",
       "2   145.286375  \n",
       "3   145.000147  \n",
       "4  1180.115061  \n",
       "\n",
       "[5 rows x 75 columns]"
      ]
     },
     "execution_count": 4,
     "metadata": {},
     "output_type": "execute_result"
    }
   ],
   "source": [
    "#new feature\n",
    "df_1['solvency'] = (df_1['annual_inc'] / df_1['installment'])\n",
    "df_1.head()"
   ]
  },
  {
   "cell_type": "code",
   "execution_count": 5,
   "metadata": {},
   "outputs": [],
   "source": [
    "df_1.replace(to_replace=['Current', 'Fully Paid', 'Issued', 'Charged Off', 'Late (31-120 days)','In Grace Period','Late (16-30 days)','Does not meet the credit policy. Status:Fully Paid','Default','Does not meet the credit policy. Status:Charged Off'],\n",
    "           value= ['0','0','0','1','1','1','1','1','1','1'], \n",
    "           inplace=True)"
   ]
  },
  {
   "cell_type": "code",
   "execution_count": 6,
   "metadata": {},
   "outputs": [],
   "source": [
    "df_1['loan_status'] = df_1['loan_status'].fillna(0.0).astype(int)"
   ]
  },
  {
   "cell_type": "code",
   "execution_count": 7,
   "metadata": {},
   "outputs": [],
   "source": [
    "# удаляем фичи где кол-во nan > 250 000\n",
    "\n",
    "for column in df_1:\n",
    "    if sum(df_1[column].isnull()) >= 250000:\n",
    "        df_1.drop(column, axis=1, inplace=True)"
   ]
  },
  {
   "cell_type": "code",
   "execution_count": 8,
   "metadata": {},
   "outputs": [
    {
     "data": {
      "text/plain": [
       "id                                0\n",
       "member_id                         0\n",
       "loan_amnt                         0\n",
       "funded_amnt                       0\n",
       "funded_amnt_inv                   0\n",
       "term                              0\n",
       "int_rate                          0\n",
       "installment                       0\n",
       "grade                             0\n",
       "sub_grade                         0\n",
       "emp_title                     51462\n",
       "emp_length                    44825\n",
       "home_ownership                    0\n",
       "annual_inc                        4\n",
       "verification_status               0\n",
       "issue_d                           0\n",
       "loan_status                       0\n",
       "pymnt_plan                        0\n",
       "url                               0\n",
       "purpose                           0\n",
       "title                           152\n",
       "zip_code                          0\n",
       "addr_state                        0\n",
       "dti                               0\n",
       "delinq_2yrs                      29\n",
       "earliest_cr_line                 29\n",
       "inq_last_6mths                   29\n",
       "open_acc                         29\n",
       "pub_rec                          29\n",
       "revol_bal                         0\n",
       "revol_util                      502\n",
       "total_acc                        29\n",
       "initial_list_status               0\n",
       "out_prncp                         0\n",
       "out_prncp_inv                     0\n",
       "total_pymnt                       0\n",
       "total_pymnt_inv                   0\n",
       "total_rec_prncp                   0\n",
       "total_rec_int                     0\n",
       "total_rec_late_fee                0\n",
       "recoveries                        0\n",
       "collection_recovery_fee           0\n",
       "last_pymnt_d                  17659\n",
       "last_pymnt_amnt                   0\n",
       "last_credit_pull_d               53\n",
       "collections_12_mths_ex_med      145\n",
       "policy_code                       0\n",
       "application_type                  0\n",
       "acc_now_delinq                   29\n",
       "tot_coll_amt                  70276\n",
       "tot_cur_bal                   70276\n",
       "total_rev_hi_lim              70276\n",
       "solvency                          4\n",
       "dtype: int64"
      ]
     },
     "execution_count": 8,
     "metadata": {},
     "output_type": "execute_result"
    }
   ],
   "source": [
    "pd.options.display.max_rows = 4000\n",
    "df_1.isnull().sum()"
   ]
  },
  {
   "cell_type": "code",
   "execution_count": 9,
   "metadata": {},
   "outputs": [],
   "source": [
    "# ф-ция которая меняет порядок колонок\n",
    "\n",
    "def movecol(df_1, cols_to_move=[], ref_col='', place='After'):\n",
    "    \n",
    "    cols = df_1.columns.tolist()\n",
    "    if place == 'After':\n",
    "        seg1 = cols[:list(cols).index(ref_col) + 1]\n",
    "        seg2 = cols_to_move\n",
    "    if place == 'Before':\n",
    "        seg1 = cols[:list(cols).index(ref_col)]\n",
    "        seg2 = cols_to_move + [ref_col]\n",
    "    \n",
    "    seg1 = [i for i in seg1 if i not in seg2]\n",
    "    seg3 = [i for i in cols if i not in seg1 + seg2]\n",
    "    \n",
    "    return(df_1[seg1 + seg2 + seg3])"
   ]
  },
  {
   "cell_type": "code",
   "execution_count": 10,
   "metadata": {},
   "outputs": [
    {
     "data": {
      "text/html": [
       "<div>\n",
       "<style scoped>\n",
       "    .dataframe tbody tr th:only-of-type {\n",
       "        vertical-align: middle;\n",
       "    }\n",
       "\n",
       "    .dataframe tbody tr th {\n",
       "        vertical-align: top;\n",
       "    }\n",
       "\n",
       "    .dataframe thead th {\n",
       "        text-align: right;\n",
       "    }\n",
       "</style>\n",
       "<table border=\"1\" class=\"dataframe\">\n",
       "  <thead>\n",
       "    <tr style=\"text-align: right;\">\n",
       "      <th></th>\n",
       "      <th>id</th>\n",
       "      <th>member_id</th>\n",
       "      <th>loan_amnt</th>\n",
       "      <th>funded_amnt</th>\n",
       "      <th>funded_amnt_inv</th>\n",
       "      <th>term</th>\n",
       "      <th>int_rate</th>\n",
       "      <th>installment</th>\n",
       "      <th>grade</th>\n",
       "      <th>sub_grade</th>\n",
       "      <th>...</th>\n",
       "      <th>last_credit_pull_d</th>\n",
       "      <th>collections_12_mths_ex_med</th>\n",
       "      <th>policy_code</th>\n",
       "      <th>application_type</th>\n",
       "      <th>acc_now_delinq</th>\n",
       "      <th>tot_coll_amt</th>\n",
       "      <th>tot_cur_bal</th>\n",
       "      <th>total_rev_hi_lim</th>\n",
       "      <th>solvency</th>\n",
       "      <th>loan_status</th>\n",
       "    </tr>\n",
       "  </thead>\n",
       "  <tbody>\n",
       "    <tr>\n",
       "      <th>0</th>\n",
       "      <td>1077501</td>\n",
       "      <td>1296599</td>\n",
       "      <td>5000.0</td>\n",
       "      <td>5000.0</td>\n",
       "      <td>4975.0</td>\n",
       "      <td>36 months</td>\n",
       "      <td>10.65</td>\n",
       "      <td>162.87</td>\n",
       "      <td>B</td>\n",
       "      <td>B2</td>\n",
       "      <td>...</td>\n",
       "      <td>Jan-2016</td>\n",
       "      <td>0.0</td>\n",
       "      <td>1.0</td>\n",
       "      <td>INDIVIDUAL</td>\n",
       "      <td>0.0</td>\n",
       "      <td>NaN</td>\n",
       "      <td>NaN</td>\n",
       "      <td>NaN</td>\n",
       "      <td>147.356788</td>\n",
       "      <td>0</td>\n",
       "    </tr>\n",
       "  </tbody>\n",
       "</table>\n",
       "<p>1 rows × 53 columns</p>\n",
       "</div>"
      ],
      "text/plain": [
       "        id  member_id  loan_amnt  funded_amnt  funded_amnt_inv        term  \\\n",
       "0  1077501    1296599     5000.0       5000.0           4975.0   36 months   \n",
       "\n",
       "   int_rate  installment grade sub_grade  ... last_credit_pull_d  \\\n",
       "0     10.65       162.87     B        B2  ...           Jan-2016   \n",
       "\n",
       "  collections_12_mths_ex_med policy_code  application_type acc_now_delinq  \\\n",
       "0                        0.0         1.0        INDIVIDUAL            0.0   \n",
       "\n",
       "  tot_coll_amt tot_cur_bal total_rev_hi_lim    solvency loan_status  \n",
       "0          NaN         NaN              NaN  147.356788           0  \n",
       "\n",
       "[1 rows x 53 columns]"
      ]
     },
     "execution_count": 10,
     "metadata": {},
     "output_type": "execute_result"
    }
   ],
   "source": [
    "# передвигаем наш таргет loan_status в самый конец\n",
    "\n",
    "df_1 = movecol(df_1, \n",
    "             cols_to_move=['loan_status'], \n",
    "             ref_col='solvency',\n",
    "             place='After')\n",
    "df_1.head(1)"
   ]
  },
  {
   "cell_type": "code",
   "execution_count": 11,
   "metadata": {},
   "outputs": [
    {
     "data": {
      "text/plain": [
       "(887379, 53)"
      ]
     },
     "execution_count": 11,
     "metadata": {},
     "output_type": "execute_result"
    }
   ],
   "source": [
    "df_1.shape"
   ]
  },
  {
   "cell_type": "code",
   "execution_count": 12,
   "metadata": {},
   "outputs": [],
   "source": [
    "columns_to_keep_after_feature_analysys = ['addr_state','int_rate', 'term', 'installment', \n",
    "                                          'annual_inc', 'sub_grade',  'emp_title', 'home_ownership', \n",
    "                                          'purpose',  'dti', 'pub_rec', 'recoveries', \n",
    "                                          'inq_last_6mths', 'out_prncp_inv', 'collection_recovery_fee','solvency']\n",
    "\n",
    "# A lot NAN - 'emp_length' 'total_pympt',\n",
    "\n",
    "# funded_amnt_inv grade"
   ]
  },
  {
   "cell_type": "code",
   "execution_count": null,
   "metadata": {},
   "outputs": [],
   "source": [
    "# # #  успешный набор фичей\n",
    "# # CatBoost classifier:\n",
    "# #  - ROC AUC _score:  0.93030\n",
    "# #  - accuracy_score:  0.85692\n",
    "# #  - f1_score:  0.83862\n",
    "\n",
    "# columns_to_keep = ['int_rate', 'installment', 'total_pymnt', 'total_rec_prncp', \n",
    "#                    'total_rec_late_fee',  'tot_cur_bal', 'total_rev_hi_lim', 'recoveries', \n",
    "#                    'out_prncp_inv', 'collection_recovery_fee', 'inq_last_6mths',]"
   ]
  },
  {
   "cell_type": "code",
   "execution_count": 13,
   "metadata": {},
   "outputs": [],
   "source": [
    "# columns_to_keep_after_feature_analysys = ['addr_state','int_rate', 'term', 'funded_amnt_inv', \n",
    "#                                           'annual_inc', 'grade',  'emp_title', 'home_ownership', \n",
    "#                                           'purpose',  'dti', 'pub_rec', 'recoveries', \n",
    "#                                           'inq_last_6mths', 'out_prncp_inv', 'collection_recovery_fee']\n"
   ]
  },
  {
   "cell_type": "code",
   "execution_count": 14,
   "metadata": {},
   "outputs": [
    {
     "data": {
      "text/html": [
       "<div>\n",
       "<style scoped>\n",
       "    .dataframe tbody tr th:only-of-type {\n",
       "        vertical-align: middle;\n",
       "    }\n",
       "\n",
       "    .dataframe tbody tr th {\n",
       "        vertical-align: top;\n",
       "    }\n",
       "\n",
       "    .dataframe thead th {\n",
       "        text-align: right;\n",
       "    }\n",
       "</style>\n",
       "<table border=\"1\" class=\"dataframe\">\n",
       "  <thead>\n",
       "    <tr style=\"text-align: right;\">\n",
       "      <th></th>\n",
       "      <th>addr_state</th>\n",
       "      <th>int_rate</th>\n",
       "      <th>term</th>\n",
       "      <th>installment</th>\n",
       "      <th>annual_inc</th>\n",
       "      <th>sub_grade</th>\n",
       "      <th>emp_title</th>\n",
       "      <th>home_ownership</th>\n",
       "      <th>purpose</th>\n",
       "      <th>dti</th>\n",
       "      <th>pub_rec</th>\n",
       "      <th>recoveries</th>\n",
       "      <th>inq_last_6mths</th>\n",
       "      <th>out_prncp_inv</th>\n",
       "      <th>collection_recovery_fee</th>\n",
       "      <th>solvency</th>\n",
       "      <th>loan_status</th>\n",
       "    </tr>\n",
       "  </thead>\n",
       "  <tbody>\n",
       "    <tr>\n",
       "      <th>0</th>\n",
       "      <td>AZ</td>\n",
       "      <td>10.65</td>\n",
       "      <td>36 months</td>\n",
       "      <td>162.87</td>\n",
       "      <td>24000.0</td>\n",
       "      <td>B2</td>\n",
       "      <td>NaN</td>\n",
       "      <td>RENT</td>\n",
       "      <td>credit_card</td>\n",
       "      <td>27.65</td>\n",
       "      <td>0.0</td>\n",
       "      <td>0.0</td>\n",
       "      <td>1.0</td>\n",
       "      <td>0.0</td>\n",
       "      <td>0.0</td>\n",
       "      <td>147.356788</td>\n",
       "      <td>0</td>\n",
       "    </tr>\n",
       "  </tbody>\n",
       "</table>\n",
       "</div>"
      ],
      "text/plain": [
       "  addr_state  int_rate        term  installment  annual_inc sub_grade  \\\n",
       "0         AZ     10.65   36 months       162.87     24000.0        B2   \n",
       "\n",
       "  emp_title home_ownership      purpose    dti  pub_rec  recoveries  \\\n",
       "0       NaN           RENT  credit_card  27.65      0.0         0.0   \n",
       "\n",
       "   inq_last_6mths  out_prncp_inv  collection_recovery_fee    solvency  \\\n",
       "0             1.0            0.0                      0.0  147.356788   \n",
       "\n",
       "   loan_status  \n",
       "0            0  "
      ]
     },
     "execution_count": 14,
     "metadata": {},
     "output_type": "execute_result"
    }
   ],
   "source": [
    "df_1 = df_1[columns_to_keep_after_feature_analysys + ['loan_status']]\n",
    "df_1.head(1)"
   ]
  },
  {
   "cell_type": "code",
   "execution_count": 15,
   "metadata": {},
   "outputs": [
    {
     "data": {
      "text/plain": [
       "(887379, 17)"
      ]
     },
     "execution_count": 15,
     "metadata": {},
     "output_type": "execute_result"
    }
   ],
   "source": [
    "df_1.shape"
   ]
  },
  {
   "cell_type": "code",
   "execution_count": 16,
   "metadata": {},
   "outputs": [
    {
     "data": {
      "text/plain": [
       "0    817962\n",
       "1     69417\n",
       "Name: loan_status, dtype: int64"
      ]
     },
     "execution_count": 16,
     "metadata": {},
     "output_type": "execute_result"
    }
   ],
   "source": [
    "df_1['loan_status'].value_counts()"
   ]
  },
  {
   "cell_type": "code",
   "execution_count": 17,
   "metadata": {},
   "outputs": [
    {
     "data": {
      "text/plain": [
       "addr_state                     0\n",
       "int_rate                       0\n",
       "term                           0\n",
       "installment                    0\n",
       "annual_inc                     4\n",
       "sub_grade                      0\n",
       "emp_title                  51462\n",
       "home_ownership                 0\n",
       "purpose                        0\n",
       "dti                            0\n",
       "pub_rec                       29\n",
       "recoveries                     0\n",
       "inq_last_6mths                29\n",
       "out_prncp_inv                  0\n",
       "collection_recovery_fee        0\n",
       "solvency                       4\n",
       "loan_status                    0\n",
       "dtype: int64"
      ]
     },
     "execution_count": 17,
     "metadata": {},
     "output_type": "execute_result"
    }
   ],
   "source": [
    "df_1.isnull().sum()"
   ]
  },
  {
   "cell_type": "code",
   "execution_count": 18,
   "metadata": {},
   "outputs": [
    {
     "data": {
      "image/png": "[encoded data removed]",
      "text/plain": [
       "<Figure size 576x576 with 1 Axes>"
      ]
     },
     "metadata": {
      "needs_background": "light"
     },
     "output_type": "display_data"
    }
   ],
   "source": [
    "# Shuffle the Dataset.\n",
    "shuffled_df = df_1.sample(frac=1, random_state=4)\n",
    "\n",
    "# Put all the fraud class in a separate dataset.\n",
    "fraud_df = shuffled_df.loc[shuffled_df['loan_status'] == 1]\n",
    "\n",
    "#Randomly select 69417 observations from the non-fraud (majority class)\n",
    "non_fraud_df = shuffled_df.loc[shuffled_df['loan_status'] == 0].sample(n=69417, random_state=42)\n",
    "\n",
    "# Concatenate both dataframes again\n",
    "normalized_df = pd.concat([fraud_df, non_fraud_df])\n",
    "\n",
    "#plot the dataset after the undersampling\n",
    "plt.figure(figsize=(8, 8))\n",
    "sns.countplot('loan_status', data=normalized_df)\n",
    "plt.title('Balanced Classes')\n",
    "plt.show()"
   ]
  },
  {
   "cell_type": "code",
   "execution_count": 19,
   "metadata": {},
   "outputs": [
    {
     "data": {
      "text/plain": [
       "1    69417\n",
       "0    69417\n",
       "Name: loan_status, dtype: int64"
      ]
     },
     "execution_count": 19,
     "metadata": {},
     "output_type": "execute_result"
    }
   ],
   "source": [
    "normalized_df['loan_status'].value_counts()"
   ]
  },
  {
   "cell_type": "code",
   "execution_count": 20,
   "metadata": {},
   "outputs": [
    {
     "data": {
      "text/plain": [
       "addr_state                    0\n",
       "int_rate                      0\n",
       "term                          0\n",
       "installment                   0\n",
       "annual_inc                    4\n",
       "sub_grade                     0\n",
       "emp_title                  8895\n",
       "home_ownership                0\n",
       "purpose                       0\n",
       "dti                           0\n",
       "pub_rec                      29\n",
       "recoveries                    0\n",
       "inq_last_6mths               29\n",
       "out_prncp_inv                 0\n",
       "collection_recovery_fee       0\n",
       "solvency                      4\n",
       "loan_status                   0\n",
       "dtype: int64"
      ]
     },
     "execution_count": 20,
     "metadata": {},
     "output_type": "execute_result"
    }
   ],
   "source": [
    "normalized_df.isnull().sum()"
   ]
  },
  {
   "cell_type": "code",
   "execution_count": 21,
   "metadata": {},
   "outputs": [
    {
     "data": {
      "text/html": [
       "<div>\n",
       "<style scoped>\n",
       "    .dataframe tbody tr th:only-of-type {\n",
       "        vertical-align: middle;\n",
       "    }\n",
       "\n",
       "    .dataframe tbody tr th {\n",
       "        vertical-align: top;\n",
       "    }\n",
       "\n",
       "    .dataframe thead th {\n",
       "        text-align: right;\n",
       "    }\n",
       "</style>\n",
       "<table border=\"1\" class=\"dataframe\">\n",
       "  <thead>\n",
       "    <tr style=\"text-align: right;\">\n",
       "      <th></th>\n",
       "      <th>addr_state</th>\n",
       "      <th>int_rate</th>\n",
       "      <th>term</th>\n",
       "      <th>installment</th>\n",
       "      <th>annual_inc</th>\n",
       "      <th>sub_grade</th>\n",
       "      <th>emp_title</th>\n",
       "      <th>home_ownership</th>\n",
       "      <th>purpose</th>\n",
       "      <th>dti</th>\n",
       "      <th>pub_rec</th>\n",
       "      <th>recoveries</th>\n",
       "      <th>inq_last_6mths</th>\n",
       "      <th>out_prncp_inv</th>\n",
       "      <th>collection_recovery_fee</th>\n",
       "      <th>solvency</th>\n",
       "      <th>loan_status</th>\n",
       "    </tr>\n",
       "  </thead>\n",
       "  <tbody>\n",
       "    <tr>\n",
       "      <th>598381</th>\n",
       "      <td>OH</td>\n",
       "      <td>8.18</td>\n",
       "      <td>36 months</td>\n",
       "      <td>471.3</td>\n",
       "      <td>70000.0</td>\n",
       "      <td>B1</td>\n",
       "      <td>Field Sales Associate</td>\n",
       "      <td>MORTGAGE</td>\n",
       "      <td>debt_consolidation</td>\n",
       "      <td>12.7</td>\n",
       "      <td>0.0</td>\n",
       "      <td>0.0</td>\n",
       "      <td>0.0</td>\n",
       "      <td>14142.15</td>\n",
       "      <td>0.0</td>\n",
       "      <td>148.525355</td>\n",
       "      <td>1</td>\n",
       "    </tr>\n",
       "    <tr>\n",
       "      <th>59642</th>\n",
       "      <td>CA</td>\n",
       "      <td>9.67</td>\n",
       "      <td>36 months</td>\n",
       "      <td>256.9</td>\n",
       "      <td>55000.0</td>\n",
       "      <td>B1</td>\n",
       "      <td>Director of Advanccement</td>\n",
       "      <td>RENT</td>\n",
       "      <td>credit_card</td>\n",
       "      <td>18.3</td>\n",
       "      <td>0.0</td>\n",
       "      <td>0.0</td>\n",
       "      <td>0.0</td>\n",
       "      <td>2695.03</td>\n",
       "      <td>0.0</td>\n",
       "      <td>214.091086</td>\n",
       "      <td>0</td>\n",
       "    </tr>\n",
       "  </tbody>\n",
       "</table>\n",
       "</div>"
      ],
      "text/plain": [
       "       addr_state  int_rate        term  installment  annual_inc sub_grade  \\\n",
       "598381         OH      8.18   36 months        471.3     70000.0        B1   \n",
       "59642          CA      9.67   36 months        256.9     55000.0        B1   \n",
       "\n",
       "                       emp_title home_ownership             purpose   dti  \\\n",
       "598381     Field Sales Associate       MORTGAGE  debt_consolidation  12.7   \n",
       "59642   Director of Advanccement           RENT         credit_card  18.3   \n",
       "\n",
       "        pub_rec  recoveries  inq_last_6mths  out_prncp_inv  \\\n",
       "598381      0.0         0.0             0.0       14142.15   \n",
       "59642       0.0         0.0             0.0        2695.03   \n",
       "\n",
       "        collection_recovery_fee    solvency  loan_status  \n",
       "598381                      0.0  148.525355            1  \n",
       "59642                       0.0  214.091086            0  "
      ]
     },
     "execution_count": 21,
     "metadata": {},
     "output_type": "execute_result"
    }
   ],
   "source": [
    "# Shuffle the Dataset.\n",
    "normalized_df = normalized_df.sample(frac=1, random_state=4)\n",
    "normalized_df.head(2)"
   ]
  },
  {
   "cell_type": "code",
   "execution_count": 22,
   "metadata": {},
   "outputs": [
    {
     "data": {
      "text/plain": [
       "addr_state                  object\n",
       "int_rate                   float64\n",
       "term                        object\n",
       "installment                float64\n",
       "annual_inc                 float64\n",
       "sub_grade                   object\n",
       "emp_title                   object\n",
       "home_ownership              object\n",
       "purpose                     object\n",
       "dti                        float64\n",
       "pub_rec                    float64\n",
       "recoveries                 float64\n",
       "inq_last_6mths             float64\n",
       "out_prncp_inv              float64\n",
       "collection_recovery_fee    float64\n",
       "solvency                   float64\n",
       "loan_status                  int32\n",
       "dtype: object"
      ]
     },
     "execution_count": 22,
     "metadata": {},
     "output_type": "execute_result"
    }
   ],
   "source": [
    "normalized_df.dtypes"
   ]
  },
  {
   "cell_type": "code",
   "execution_count": 23,
   "metadata": {},
   "outputs": [
    {
     "data": {
      "text/plain": [
       "(129922, 17)"
      ]
     },
     "execution_count": 23,
     "metadata": {},
     "output_type": "execute_result"
    }
   ],
   "source": [
    "# Удаляем строки с нанами\n",
    "\n",
    "new_data = normalized_df.dropna(axis = 0, how ='any')\n",
    "new_data.shape"
   ]
  },
  {
   "cell_type": "code",
   "execution_count": 24,
   "metadata": {},
   "outputs": [
    {
     "data": {
      "text/plain": [
       "addr_state                 0\n",
       "int_rate                   0\n",
       "term                       0\n",
       "installment                0\n",
       "annual_inc                 0\n",
       "sub_grade                  0\n",
       "emp_title                  0\n",
       "home_ownership             0\n",
       "purpose                    0\n",
       "dti                        0\n",
       "pub_rec                    0\n",
       "recoveries                 0\n",
       "inq_last_6mths             0\n",
       "out_prncp_inv              0\n",
       "collection_recovery_fee    0\n",
       "solvency                   0\n",
       "loan_status                0\n",
       "dtype: int64"
      ]
     },
     "execution_count": 24,
     "metadata": {},
     "output_type": "execute_result"
    }
   ],
   "source": [
    "new_data.isnull().sum()"
   ]
  },
  {
   "cell_type": "code",
   "execution_count": 25,
   "metadata": {},
   "outputs": [],
   "source": [
    "# from sklearn.preprocessing import LabelEncoder\n",
    "\n",
    "# new_data=new_data.apply(LabelEncoder().fit_transform) # label Encoding for all non-numeric columns in dataframe df\n",
    "# new_data.head(2)"
   ]
  },
  {
   "cell_type": "markdown",
   "metadata": {},
   "source": [
    "# Делаем LabelEncoder"
   ]
  },
  {
   "cell_type": "code",
   "execution_count": 26,
   "metadata": {},
   "outputs": [],
   "source": [
    "from sklearn.preprocessing import LabelEncoder"
   ]
  },
  {
   "cell_type": "code",
   "execution_count": 27,
   "metadata": {},
   "outputs": [],
   "source": [
    "le = LabelEncoder()\n",
    "# new_data['sub_grade'] = le.fit_transform(new_data['sub_grade'])"
   ]
  },
  {
   "cell_type": "code",
   "execution_count": 28,
   "metadata": {},
   "outputs": [
    {
     "name": "stderr",
     "output_type": "stream",
     "text": [
      "C:\\Users\\user\\Anaconda3\\lib\\site-packages\\ipykernel_launcher.py:1: SettingWithCopyWarning:\n",
      "\n",
      "\n",
      "A value is trying to be set on a copy of a slice from a DataFrame.\n",
      "Try using .loc[row_indexer,col_indexer] = value instead\n",
      "\n",
      "See the caveats in the documentation: http://pandas.pydata.org/pandas-docs/stable/user_guide/indexing.html#returning-a-view-versus-a-copy\n",
      "\n"
     ]
    }
   ],
   "source": [
    "new_data['sub_grade'] = le.fit_transform(new_data['sub_grade'])"
   ]
  },
  {
   "cell_type": "code",
   "execution_count": 29,
   "metadata": {},
   "outputs": [
    {
     "name": "stderr",
     "output_type": "stream",
     "text": [
      "C:\\Users\\user\\Anaconda3\\lib\\site-packages\\ipykernel_launcher.py:1: SettingWithCopyWarning:\n",
      "\n",
      "\n",
      "A value is trying to be set on a copy of a slice from a DataFrame.\n",
      "Try using .loc[row_indexer,col_indexer] = value instead\n",
      "\n",
      "See the caveats in the documentation: http://pandas.pydata.org/pandas-docs/stable/user_guide/indexing.html#returning-a-view-versus-a-copy\n",
      "\n"
     ]
    }
   ],
   "source": [
    "new_data['addr_state'] = le.fit_transform(new_data['addr_state'])"
   ]
  },
  {
   "cell_type": "code",
   "execution_count": 30,
   "metadata": {},
   "outputs": [
    {
     "name": "stderr",
     "output_type": "stream",
     "text": [
      "C:\\Users\\user\\Anaconda3\\lib\\site-packages\\ipykernel_launcher.py:1: SettingWithCopyWarning:\n",
      "\n",
      "\n",
      "A value is trying to be set on a copy of a slice from a DataFrame.\n",
      "Try using .loc[row_indexer,col_indexer] = value instead\n",
      "\n",
      "See the caveats in the documentation: http://pandas.pydata.org/pandas-docs/stable/user_guide/indexing.html#returning-a-view-versus-a-copy\n",
      "\n"
     ]
    }
   ],
   "source": [
    "new_data['term'] = le.fit_transform(new_data['term'])"
   ]
  },
  {
   "cell_type": "code",
   "execution_count": 31,
   "metadata": {},
   "outputs": [
    {
     "name": "stderr",
     "output_type": "stream",
     "text": [
      "C:\\Users\\user\\Anaconda3\\lib\\site-packages\\ipykernel_launcher.py:1: SettingWithCopyWarning:\n",
      "\n",
      "\n",
      "A value is trying to be set on a copy of a slice from a DataFrame.\n",
      "Try using .loc[row_indexer,col_indexer] = value instead\n",
      "\n",
      "See the caveats in the documentation: http://pandas.pydata.org/pandas-docs/stable/user_guide/indexing.html#returning-a-view-versus-a-copy\n",
      "\n"
     ]
    }
   ],
   "source": [
    "new_data['emp_title'] = le.fit_transform(new_data['emp_title'])"
   ]
  },
  {
   "cell_type": "code",
   "execution_count": 32,
   "metadata": {},
   "outputs": [
    {
     "name": "stderr",
     "output_type": "stream",
     "text": [
      "C:\\Users\\user\\Anaconda3\\lib\\site-packages\\ipykernel_launcher.py:1: SettingWithCopyWarning:\n",
      "\n",
      "\n",
      "A value is trying to be set on a copy of a slice from a DataFrame.\n",
      "Try using .loc[row_indexer,col_indexer] = value instead\n",
      "\n",
      "See the caveats in the documentation: http://pandas.pydata.org/pandas-docs/stable/user_guide/indexing.html#returning-a-view-versus-a-copy\n",
      "\n"
     ]
    }
   ],
   "source": [
    "new_data['home_ownership'] = le.fit_transform(new_data['home_ownership'])"
   ]
  },
  {
   "cell_type": "code",
   "execution_count": 33,
   "metadata": {},
   "outputs": [
    {
     "name": "stderr",
     "output_type": "stream",
     "text": [
      "C:\\Users\\user\\Anaconda3\\lib\\site-packages\\ipykernel_launcher.py:1: SettingWithCopyWarning:\n",
      "\n",
      "\n",
      "A value is trying to be set on a copy of a slice from a DataFrame.\n",
      "Try using .loc[row_indexer,col_indexer] = value instead\n",
      "\n",
      "See the caveats in the documentation: http://pandas.pydata.org/pandas-docs/stable/user_guide/indexing.html#returning-a-view-versus-a-copy\n",
      "\n"
     ]
    }
   ],
   "source": [
    "new_data['purpose'] = le.fit_transform(new_data['purpose'])"
   ]
  },
  {
   "cell_type": "code",
   "execution_count": 34,
   "metadata": {},
   "outputs": [
    {
     "data": {
      "text/html": [
       "<div>\n",
       "<style scoped>\n",
       "    .dataframe tbody tr th:only-of-type {\n",
       "        vertical-align: middle;\n",
       "    }\n",
       "\n",
       "    .dataframe tbody tr th {\n",
       "        vertical-align: top;\n",
       "    }\n",
       "\n",
       "    .dataframe thead th {\n",
       "        text-align: right;\n",
       "    }\n",
       "</style>\n",
       "<table border=\"1\" class=\"dataframe\">\n",
       "  <thead>\n",
       "    <tr style=\"text-align: right;\">\n",
       "      <th></th>\n",
       "      <th>addr_state</th>\n",
       "      <th>int_rate</th>\n",
       "      <th>term</th>\n",
       "      <th>installment</th>\n",
       "      <th>annual_inc</th>\n",
       "      <th>sub_grade</th>\n",
       "      <th>emp_title</th>\n",
       "      <th>home_ownership</th>\n",
       "      <th>purpose</th>\n",
       "      <th>dti</th>\n",
       "      <th>pub_rec</th>\n",
       "      <th>recoveries</th>\n",
       "      <th>inq_last_6mths</th>\n",
       "      <th>out_prncp_inv</th>\n",
       "      <th>collection_recovery_fee</th>\n",
       "      <th>solvency</th>\n",
       "      <th>loan_status</th>\n",
       "    </tr>\n",
       "  </thead>\n",
       "  <tbody>\n",
       "    <tr>\n",
       "      <th>598381</th>\n",
       "      <td>35</td>\n",
       "      <td>8.18</td>\n",
       "      <td>0</td>\n",
       "      <td>471.3</td>\n",
       "      <td>70000.0</td>\n",
       "      <td>5</td>\n",
       "      <td>19517</td>\n",
       "      <td>0</td>\n",
       "      <td>2</td>\n",
       "      <td>12.7</td>\n",
       "      <td>0.0</td>\n",
       "      <td>0.0</td>\n",
       "      <td>0.0</td>\n",
       "      <td>14142.15</td>\n",
       "      <td>0.0</td>\n",
       "      <td>148.525355</td>\n",
       "      <td>1</td>\n",
       "    </tr>\n",
       "    <tr>\n",
       "      <th>59642</th>\n",
       "      <td>4</td>\n",
       "      <td>9.67</td>\n",
       "      <td>0</td>\n",
       "      <td>256.9</td>\n",
       "      <td>55000.0</td>\n",
       "      <td>5</td>\n",
       "      <td>15372</td>\n",
       "      <td>4</td>\n",
       "      <td>1</td>\n",
       "      <td>18.3</td>\n",
       "      <td>0.0</td>\n",
       "      <td>0.0</td>\n",
       "      <td>0.0</td>\n",
       "      <td>2695.03</td>\n",
       "      <td>0.0</td>\n",
       "      <td>214.091086</td>\n",
       "      <td>0</td>\n",
       "    </tr>\n",
       "  </tbody>\n",
       "</table>\n",
       "</div>"
      ],
      "text/plain": [
       "        addr_state  int_rate  term  installment  annual_inc  sub_grade  \\\n",
       "598381          35      8.18     0        471.3     70000.0          5   \n",
       "59642            4      9.67     0        256.9     55000.0          5   \n",
       "\n",
       "        emp_title  home_ownership  purpose   dti  pub_rec  recoveries  \\\n",
       "598381      19517               0        2  12.7      0.0         0.0   \n",
       "59642       15372               4        1  18.3      0.0         0.0   \n",
       "\n",
       "        inq_last_6mths  out_prncp_inv  collection_recovery_fee    solvency  \\\n",
       "598381             0.0       14142.15                      0.0  148.525355   \n",
       "59642              0.0        2695.03                      0.0  214.091086   \n",
       "\n",
       "        loan_status  \n",
       "598381            1  \n",
       "59642             0  "
      ]
     },
     "execution_count": 34,
     "metadata": {},
     "output_type": "execute_result"
    }
   ],
   "source": [
    "new_data.head(2)"
   ]
  },
  {
   "cell_type": "code",
   "execution_count": 35,
   "metadata": {},
   "outputs": [
    {
     "data": {
      "text/plain": [
       "addr_state                   int32\n",
       "int_rate                   float64\n",
       "term                         int32\n",
       "installment                float64\n",
       "annual_inc                 float64\n",
       "sub_grade                    int32\n",
       "emp_title                    int32\n",
       "home_ownership               int32\n",
       "purpose                      int32\n",
       "dti                        float64\n",
       "pub_rec                    float64\n",
       "recoveries                 float64\n",
       "inq_last_6mths             float64\n",
       "out_prncp_inv              float64\n",
       "collection_recovery_fee    float64\n",
       "solvency                   float64\n",
       "loan_status                  int32\n",
       "dtype: object"
      ]
     },
     "execution_count": 35,
     "metadata": {},
     "output_type": "execute_result"
    }
   ],
   "source": [
    "new_data.dtypes"
   ]
  },
  {
   "cell_type": "code",
   "execution_count": 36,
   "metadata": {},
   "outputs": [],
   "source": [
    "# train/test split\n",
    "\n",
    "X = new_data.drop('loan_status', axis=1)\n",
    "y = new_data['loan_status']\n",
    "\n",
    "X_train, X_test, y_train, y_test = train_test_split(X, y)"
   ]
  },
  {
   "cell_type": "markdown",
   "metadata": {},
   "source": [
    "# CatBoost modelling"
   ]
  },
  {
   "cell_type": "code",
   "execution_count": 37,
   "metadata": {},
   "outputs": [],
   "source": [
    "from catboost import CatBoostClassifier"
   ]
  },
  {
   "cell_type": "code",
   "execution_count": 38,
   "metadata": {},
   "outputs": [
    {
     "name": "stdout",
     "output_type": "stream",
     "text": [
      "0:\tlearn: 0.6192373\ttotal: 95.8ms\tremaining: 19.1s\n",
      "1:\tlearn: 0.5756004\ttotal: 134ms\tremaining: 13.2s\n",
      "2:\tlearn: 0.5481081\ttotal: 171ms\tremaining: 11.2s\n",
      "3:\tlearn: 0.5376979\ttotal: 209ms\tremaining: 10.2s\n",
      "4:\tlearn: 0.5239140\ttotal: 247ms\tremaining: 9.63s\n",
      "5:\tlearn: 0.5143032\ttotal: 282ms\tremaining: 9.11s\n",
      "6:\tlearn: 0.5068931\ttotal: 319ms\tremaining: 8.78s\n",
      "7:\tlearn: 0.5029613\ttotal: 354ms\tremaining: 8.5s\n",
      "8:\tlearn: 0.4990722\ttotal: 396ms\tremaining: 8.41s\n",
      "9:\tlearn: 0.4954912\ttotal: 436ms\tremaining: 8.29s\n",
      "10:\tlearn: 0.4930106\ttotal: 480ms\tremaining: 8.24s\n",
      "11:\tlearn: 0.4909100\ttotal: 515ms\tremaining: 8.06s\n",
      "12:\tlearn: 0.4890984\ttotal: 550ms\tremaining: 7.91s\n",
      "13:\tlearn: 0.4876186\ttotal: 587ms\tremaining: 7.8s\n",
      "14:\tlearn: 0.4862977\ttotal: 624ms\tremaining: 7.7s\n",
      "15:\tlearn: 0.4847272\ttotal: 663ms\tremaining: 7.62s\n",
      "16:\tlearn: 0.4837119\ttotal: 701ms\tremaining: 7.55s\n",
      "17:\tlearn: 0.4829240\ttotal: 733ms\tremaining: 7.41s\n",
      "18:\tlearn: 0.4820598\ttotal: 768ms\tremaining: 7.32s\n",
      "19:\tlearn: 0.4813658\ttotal: 804ms\tremaining: 7.24s\n",
      "20:\tlearn: 0.4807343\ttotal: 834ms\tremaining: 7.11s\n",
      "21:\tlearn: 0.4800305\ttotal: 868ms\tremaining: 7.03s\n",
      "22:\tlearn: 0.4795106\ttotal: 908ms\tremaining: 6.99s\n",
      "23:\tlearn: 0.4790904\ttotal: 946ms\tremaining: 6.94s\n",
      "24:\tlearn: 0.4786746\ttotal: 977ms\tremaining: 6.84s\n",
      "25:\tlearn: 0.4782818\ttotal: 1.01s\tremaining: 6.79s\n",
      "26:\tlearn: 0.4776602\ttotal: 1.05s\tremaining: 6.75s\n",
      "27:\tlearn: 0.4772840\ttotal: 1.09s\tremaining: 6.71s\n",
      "28:\tlearn: 0.4768756\ttotal: 1.13s\tremaining: 6.68s\n",
      "29:\tlearn: 0.4764082\ttotal: 1.17s\tremaining: 6.63s\n",
      "30:\tlearn: 0.4760948\ttotal: 1.2s\tremaining: 6.55s\n",
      "31:\tlearn: 0.4757978\ttotal: 1.24s\tremaining: 6.5s\n",
      "32:\tlearn: 0.4755412\ttotal: 1.27s\tremaining: 6.44s\n",
      "33:\tlearn: 0.4752999\ttotal: 1.31s\tremaining: 6.39s\n",
      "34:\tlearn: 0.4750603\ttotal: 1.34s\tremaining: 6.34s\n",
      "35:\tlearn: 0.4748295\ttotal: 1.38s\tremaining: 6.3s\n",
      "36:\tlearn: 0.4746259\ttotal: 1.42s\tremaining: 6.27s\n",
      "37:\tlearn: 0.4744340\ttotal: 1.46s\tremaining: 6.23s\n",
      "38:\tlearn: 0.4743120\ttotal: 1.49s\tremaining: 6.16s\n",
      "39:\tlearn: 0.4739619\ttotal: 1.53s\tremaining: 6.12s\n",
      "40:\tlearn: 0.4737890\ttotal: 1.56s\tremaining: 6.07s\n",
      "41:\tlearn: 0.4736010\ttotal: 1.6s\tremaining: 6.02s\n",
      "42:\tlearn: 0.4734187\ttotal: 1.64s\tremaining: 5.98s\n",
      "43:\tlearn: 0.4732573\ttotal: 1.67s\tremaining: 5.93s\n",
      "44:\tlearn: 0.4730826\ttotal: 1.71s\tremaining: 5.89s\n",
      "45:\tlearn: 0.4729207\ttotal: 1.75s\tremaining: 5.84s\n",
      "46:\tlearn: 0.4728268\ttotal: 1.78s\tremaining: 5.79s\n",
      "47:\tlearn: 0.4727269\ttotal: 1.81s\tremaining: 5.75s\n",
      "48:\tlearn: 0.4726464\ttotal: 1.85s\tremaining: 5.71s\n",
      "49:\tlearn: 0.4725366\ttotal: 1.89s\tremaining: 5.67s\n",
      "50:\tlearn: 0.4724230\ttotal: 1.93s\tremaining: 5.62s\n",
      "51:\tlearn: 0.4722024\ttotal: 1.96s\tremaining: 5.58s\n",
      "52:\tlearn: 0.4720286\ttotal: 1.99s\tremaining: 5.53s\n",
      "53:\tlearn: 0.4719011\ttotal: 2.02s\tremaining: 5.47s\n",
      "54:\tlearn: 0.4718111\ttotal: 2.06s\tremaining: 5.43s\n",
      "55:\tlearn: 0.4717024\ttotal: 2.09s\tremaining: 5.37s\n",
      "56:\tlearn: 0.4716209\ttotal: 2.13s\tremaining: 5.33s\n",
      "57:\tlearn: 0.4714364\ttotal: 2.16s\tremaining: 5.3s\n",
      "58:\tlearn: 0.4713519\ttotal: 2.2s\tremaining: 5.25s\n",
      "59:\tlearn: 0.4712877\ttotal: 2.23s\tremaining: 5.21s\n",
      "60:\tlearn: 0.4711943\ttotal: 2.27s\tremaining: 5.16s\n",
      "61:\tlearn: 0.4710818\ttotal: 2.3s\tremaining: 5.13s\n",
      "62:\tlearn: 0.4709170\ttotal: 2.35s\tremaining: 5.1s\n",
      "63:\tlearn: 0.4708395\ttotal: 2.38s\tremaining: 5.06s\n",
      "64:\tlearn: 0.4707466\ttotal: 2.42s\tremaining: 5.02s\n",
      "65:\tlearn: 0.4706422\ttotal: 2.45s\tremaining: 4.98s\n",
      "66:\tlearn: 0.4704978\ttotal: 2.49s\tremaining: 4.94s\n",
      "67:\tlearn: 0.4704262\ttotal: 2.52s\tremaining: 4.9s\n",
      "68:\tlearn: 0.4703596\ttotal: 2.56s\tremaining: 4.87s\n",
      "69:\tlearn: 0.4702506\ttotal: 2.6s\tremaining: 4.82s\n",
      "70:\tlearn: 0.4701685\ttotal: 2.64s\tremaining: 4.79s\n",
      "71:\tlearn: 0.4701146\ttotal: 2.68s\tremaining: 4.76s\n",
      "72:\tlearn: 0.4700235\ttotal: 2.71s\tremaining: 4.72s\n",
      "73:\tlearn: 0.4699297\ttotal: 2.75s\tremaining: 4.68s\n",
      "74:\tlearn: 0.4698360\ttotal: 2.78s\tremaining: 4.63s\n",
      "75:\tlearn: 0.4697291\ttotal: 2.81s\tremaining: 4.59s\n",
      "76:\tlearn: 0.4696695\ttotal: 2.85s\tremaining: 4.55s\n",
      "77:\tlearn: 0.4694796\ttotal: 2.88s\tremaining: 4.51s\n",
      "78:\tlearn: 0.4693956\ttotal: 2.92s\tremaining: 4.47s\n",
      "79:\tlearn: 0.4692682\ttotal: 2.96s\tremaining: 4.44s\n",
      "80:\tlearn: 0.4692153\ttotal: 2.99s\tremaining: 4.39s\n",
      "81:\tlearn: 0.4691648\ttotal: 3.02s\tremaining: 4.35s\n",
      "82:\tlearn: 0.4690672\ttotal: 3.06s\tremaining: 4.31s\n",
      "83:\tlearn: 0.4689647\ttotal: 3.09s\tremaining: 4.27s\n",
      "84:\tlearn: 0.4688366\ttotal: 3.13s\tremaining: 4.24s\n",
      "85:\tlearn: 0.4687545\ttotal: 3.18s\tremaining: 4.21s\n",
      "86:\tlearn: 0.4687129\ttotal: 3.22s\tremaining: 4.18s\n",
      "87:\tlearn: 0.4686400\ttotal: 3.25s\tremaining: 4.14s\n",
      "88:\tlearn: 0.4685503\ttotal: 3.28s\tremaining: 4.09s\n",
      "89:\tlearn: 0.4684506\ttotal: 3.32s\tremaining: 4.05s\n",
      "90:\tlearn: 0.4683655\ttotal: 3.36s\tremaining: 4.03s\n",
      "91:\tlearn: 0.4683119\ttotal: 3.4s\tremaining: 3.99s\n",
      "92:\tlearn: 0.4682849\ttotal: 3.44s\tremaining: 3.96s\n",
      "93:\tlearn: 0.4681826\ttotal: 3.47s\tremaining: 3.91s\n",
      "94:\tlearn: 0.4680883\ttotal: 3.5s\tremaining: 3.87s\n",
      "95:\tlearn: 0.4680577\ttotal: 3.54s\tremaining: 3.83s\n",
      "96:\tlearn: 0.4679732\ttotal: 3.57s\tremaining: 3.79s\n",
      "97:\tlearn: 0.4679116\ttotal: 3.61s\tremaining: 3.75s\n",
      "98:\tlearn: 0.4678512\ttotal: 3.65s\tremaining: 3.72s\n",
      "99:\tlearn: 0.4677773\ttotal: 3.68s\tremaining: 3.68s\n",
      "100:\tlearn: 0.4677196\ttotal: 3.72s\tremaining: 3.64s\n",
      "101:\tlearn: 0.4676564\ttotal: 3.75s\tremaining: 3.6s\n",
      "102:\tlearn: 0.4676063\ttotal: 3.79s\tremaining: 3.56s\n",
      "103:\tlearn: 0.4675598\ttotal: 3.81s\tremaining: 3.52s\n",
      "104:\tlearn: 0.4674581\ttotal: 3.85s\tremaining: 3.48s\n",
      "105:\tlearn: 0.4674090\ttotal: 3.89s\tremaining: 3.45s\n",
      "106:\tlearn: 0.4673613\ttotal: 3.92s\tremaining: 3.41s\n",
      "107:\tlearn: 0.4671335\ttotal: 3.96s\tremaining: 3.37s\n",
      "108:\tlearn: 0.4670917\ttotal: 4s\tremaining: 3.34s\n",
      "109:\tlearn: 0.4670250\ttotal: 4.03s\tremaining: 3.3s\n",
      "110:\tlearn: 0.4669606\ttotal: 4.07s\tremaining: 3.27s\n",
      "111:\tlearn: 0.4669010\ttotal: 4.11s\tremaining: 3.23s\n",
      "112:\tlearn: 0.4667812\ttotal: 4.14s\tremaining: 3.19s\n",
      "113:\tlearn: 0.4666842\ttotal: 4.18s\tremaining: 3.16s\n",
      "114:\tlearn: 0.4666259\ttotal: 4.22s\tremaining: 3.12s\n",
      "115:\tlearn: 0.4665744\ttotal: 4.26s\tremaining: 3.08s\n",
      "116:\tlearn: 0.4665041\ttotal: 4.3s\tremaining: 3.05s\n",
      "117:\tlearn: 0.4664564\ttotal: 4.34s\tremaining: 3.02s\n",
      "118:\tlearn: 0.4663833\ttotal: 4.38s\tremaining: 2.98s\n",
      "119:\tlearn: 0.4663307\ttotal: 4.42s\tremaining: 2.95s\n",
      "120:\tlearn: 0.4662907\ttotal: 4.46s\tremaining: 2.91s\n",
      "121:\tlearn: 0.4661898\ttotal: 4.49s\tremaining: 2.87s\n",
      "122:\tlearn: 0.4661292\ttotal: 4.53s\tremaining: 2.84s\n",
      "123:\tlearn: 0.4660585\ttotal: 4.57s\tremaining: 2.8s\n",
      "124:\tlearn: 0.4659642\ttotal: 4.61s\tremaining: 2.77s\n",
      "125:\tlearn: 0.4659067\ttotal: 4.65s\tremaining: 2.73s\n",
      "126:\tlearn: 0.4658401\ttotal: 4.69s\tremaining: 2.69s\n",
      "127:\tlearn: 0.4657971\ttotal: 4.72s\tremaining: 2.65s\n",
      "128:\tlearn: 0.4657219\ttotal: 4.76s\tremaining: 2.62s\n",
      "129:\tlearn: 0.4656235\ttotal: 4.8s\tremaining: 2.58s\n",
      "130:\tlearn: 0.4655450\ttotal: 4.84s\tremaining: 2.55s\n",
      "131:\tlearn: 0.4654595\ttotal: 4.88s\tremaining: 2.52s\n",
      "132:\tlearn: 0.4653876\ttotal: 4.92s\tremaining: 2.48s\n",
      "133:\tlearn: 0.4653167\ttotal: 4.96s\tremaining: 2.44s\n",
      "134:\tlearn: 0.4652501\ttotal: 4.99s\tremaining: 2.4s\n",
      "135:\tlearn: 0.4651751\ttotal: 5.03s\tremaining: 2.37s\n",
      "136:\tlearn: 0.4651067\ttotal: 5.07s\tremaining: 2.33s\n",
      "137:\tlearn: 0.4650546\ttotal: 5.11s\tremaining: 2.29s\n",
      "138:\tlearn: 0.4649905\ttotal: 5.15s\tremaining: 2.26s\n",
      "139:\tlearn: 0.4648325\ttotal: 5.19s\tremaining: 2.22s\n",
      "140:\tlearn: 0.4647768\ttotal: 5.23s\tremaining: 2.19s\n",
      "141:\tlearn: 0.4647209\ttotal: 5.28s\tremaining: 2.16s\n",
      "142:\tlearn: 0.4643528\ttotal: 5.32s\tremaining: 2.12s\n",
      "143:\tlearn: 0.4643017\ttotal: 5.36s\tremaining: 2.08s\n",
      "144:\tlearn: 0.4642504\ttotal: 5.4s\tremaining: 2.05s\n",
      "145:\tlearn: 0.4641898\ttotal: 5.44s\tremaining: 2.01s\n",
      "146:\tlearn: 0.4641296\ttotal: 5.48s\tremaining: 1.97s\n",
      "147:\tlearn: 0.4640621\ttotal: 5.51s\tremaining: 1.94s\n",
      "148:\tlearn: 0.4639795\ttotal: 5.55s\tremaining: 1.9s\n",
      "149:\tlearn: 0.4639364\ttotal: 5.59s\tremaining: 1.86s\n",
      "150:\tlearn: 0.4638838\ttotal: 5.63s\tremaining: 1.83s\n",
      "151:\tlearn: 0.4638254\ttotal: 5.67s\tremaining: 1.79s\n",
      "152:\tlearn: 0.4637572\ttotal: 5.71s\tremaining: 1.75s\n",
      "153:\tlearn: 0.4636894\ttotal: 5.75s\tremaining: 1.72s\n",
      "154:\tlearn: 0.4635935\ttotal: 5.8s\tremaining: 1.68s\n",
      "155:\tlearn: 0.4635046\ttotal: 5.84s\tremaining: 1.65s\n",
      "156:\tlearn: 0.4634486\ttotal: 5.88s\tremaining: 1.61s\n",
      "157:\tlearn: 0.4633946\ttotal: 5.92s\tremaining: 1.57s\n",
      "158:\tlearn: 0.4633515\ttotal: 5.96s\tremaining: 1.54s\n",
      "159:\tlearn: 0.4632909\ttotal: 5.99s\tremaining: 1.5s\n",
      "160:\tlearn: 0.4632199\ttotal: 6.03s\tremaining: 1.46s\n"
     ]
    },
    {
     "name": "stdout",
     "output_type": "stream",
     "text": [
      "161:\tlearn: 0.4631704\ttotal: 6.07s\tremaining: 1.42s\n",
      "162:\tlearn: 0.4631265\ttotal: 6.11s\tremaining: 1.39s\n",
      "163:\tlearn: 0.4630676\ttotal: 6.15s\tremaining: 1.35s\n",
      "164:\tlearn: 0.4629732\ttotal: 6.18s\tremaining: 1.31s\n",
      "165:\tlearn: 0.4629000\ttotal: 6.23s\tremaining: 1.27s\n",
      "166:\tlearn: 0.4628435\ttotal: 6.27s\tremaining: 1.24s\n",
      "167:\tlearn: 0.4627804\ttotal: 6.31s\tremaining: 1.2s\n",
      "168:\tlearn: 0.4626708\ttotal: 6.35s\tremaining: 1.17s\n",
      "169:\tlearn: 0.4623043\ttotal: 6.4s\tremaining: 1.13s\n",
      "170:\tlearn: 0.4622349\ttotal: 6.43s\tremaining: 1.09s\n",
      "171:\tlearn: 0.4621654\ttotal: 6.47s\tremaining: 1.05s\n",
      "172:\tlearn: 0.4621121\ttotal: 6.51s\tremaining: 1.02s\n",
      "173:\tlearn: 0.4620452\ttotal: 6.55s\tremaining: 979ms\n",
      "174:\tlearn: 0.4619778\ttotal: 6.59s\tremaining: 942ms\n",
      "175:\tlearn: 0.4619165\ttotal: 6.64s\tremaining: 905ms\n",
      "176:\tlearn: 0.4618691\ttotal: 6.68s\tremaining: 868ms\n",
      "177:\tlearn: 0.4618340\ttotal: 6.71s\tremaining: 830ms\n",
      "178:\tlearn: 0.4617768\ttotal: 6.75s\tremaining: 792ms\n",
      "179:\tlearn: 0.4617322\ttotal: 6.79s\tremaining: 755ms\n",
      "180:\tlearn: 0.4616726\ttotal: 6.84s\tremaining: 718ms\n",
      "181:\tlearn: 0.4616140\ttotal: 6.88s\tremaining: 681ms\n",
      "182:\tlearn: 0.4614762\ttotal: 6.93s\tremaining: 644ms\n",
      "183:\tlearn: 0.4614305\ttotal: 6.98s\tremaining: 607ms\n",
      "184:\tlearn: 0.4613838\ttotal: 7.02s\tremaining: 569ms\n",
      "185:\tlearn: 0.4612648\ttotal: 7.06s\tremaining: 531ms\n",
      "186:\tlearn: 0.4612160\ttotal: 7.1s\tremaining: 493ms\n",
      "187:\tlearn: 0.4611836\ttotal: 7.14s\tremaining: 456ms\n",
      "188:\tlearn: 0.4611285\ttotal: 7.17s\tremaining: 418ms\n",
      "189:\tlearn: 0.4610612\ttotal: 7.21s\tremaining: 380ms\n",
      "190:\tlearn: 0.4609080\ttotal: 7.26s\tremaining: 342ms\n",
      "191:\tlearn: 0.4608627\ttotal: 7.3s\tremaining: 304ms\n",
      "192:\tlearn: 0.4607880\ttotal: 7.34s\tremaining: 266ms\n",
      "193:\tlearn: 0.4607374\ttotal: 7.39s\tremaining: 229ms\n",
      "194:\tlearn: 0.4606672\ttotal: 7.43s\tremaining: 191ms\n",
      "195:\tlearn: 0.4606283\ttotal: 7.47s\tremaining: 153ms\n",
      "196:\tlearn: 0.4605912\ttotal: 7.51s\tremaining: 114ms\n",
      "197:\tlearn: 0.4605161\ttotal: 7.55s\tremaining: 76.3ms\n",
      "198:\tlearn: 0.4604766\ttotal: 7.59s\tremaining: 38.2ms\n",
      "199:\tlearn: 0.4604241\ttotal: 7.63s\tremaining: 0us\n"
     ]
    },
    {
     "data": {
      "text/plain": [
       "<catboost.core.CatBoostClassifier at 0xfd01e02448>"
      ]
     },
     "execution_count": 38,
     "metadata": {},
     "output_type": "execute_result"
    }
   ],
   "source": [
    "model_cat = CatBoostClassifier(iterations=200, depth=5, learning_rate=0.1)\n",
    "\n",
    "model_cat.fit(X_train, y_train)"
   ]
  },
  {
   "cell_type": "code",
   "execution_count": 39,
   "metadata": {},
   "outputs": [],
   "source": [
    "test_y_pred4 = model_cat.predict(X_test)"
   ]
  },
  {
   "cell_type": "code",
   "execution_count": 40,
   "metadata": {},
   "outputs": [
    {
     "name": "stdout",
     "output_type": "stream",
     "text": [
      "Sklearn CatBoost classifier:\n",
      " - roc_auc_score:  0.83942\n"
     ]
    }
   ],
   "source": [
    "# make predictions on a test set and get AUC score\n",
    "\n",
    "print(\"Sklearn CatBoost classifier:\")\n",
    "y_pred = model_cat.predict_proba(X_test)\n",
    "\n",
    "print(f\" - roc_auc_score: {roc_auc_score(y_test, y_pred[:,1]): .5f}\")"
   ]
  },
  {
   "cell_type": "code",
   "execution_count": 41,
   "metadata": {},
   "outputs": [
    {
     "name": "stdout",
     "output_type": "stream",
     "text": [
      "Sklearn CatBoost classifier:\n",
      " - accuracy_score:  0.75444\n",
      " - f1_score:  0.72999\n"
     ]
    }
   ],
   "source": [
    "# Accuracy score, f1_score\n",
    "\n",
    "print(\"Sklearn CatBoost classifier:\")\n",
    "print(f\" - accuracy_score: {accuracy_score(y_test, test_y_pred4): .5f}\")\n",
    "print(f\" - f1_score: {f1_score(y_test, test_y_pred4): .5f}\")"
   ]
  },
  {
   "cell_type": "code",
   "execution_count": 42,
   "metadata": {},
   "outputs": [
    {
     "data": {
      "text/html": [
       "<div>\n",
       "<style scoped>\n",
       "    .dataframe tbody tr th:only-of-type {\n",
       "        vertical-align: middle;\n",
       "    }\n",
       "\n",
       "    .dataframe tbody tr th {\n",
       "        vertical-align: top;\n",
       "    }\n",
       "\n",
       "    .dataframe thead th {\n",
       "        text-align: right;\n",
       "    }\n",
       "</style>\n",
       "<table border=\"1\" class=\"dataframe\">\n",
       "  <thead>\n",
       "    <tr style=\"text-align: right;\">\n",
       "      <th></th>\n",
       "      <th>addr_state</th>\n",
       "      <th>int_rate</th>\n",
       "      <th>term</th>\n",
       "      <th>installment</th>\n",
       "      <th>annual_inc</th>\n",
       "      <th>sub_grade</th>\n",
       "      <th>emp_title</th>\n",
       "      <th>home_ownership</th>\n",
       "      <th>purpose</th>\n",
       "      <th>dti</th>\n",
       "      <th>pub_rec</th>\n",
       "      <th>recoveries</th>\n",
       "      <th>inq_last_6mths</th>\n",
       "      <th>out_prncp_inv</th>\n",
       "      <th>collection_recovery_fee</th>\n",
       "      <th>solvency</th>\n",
       "      <th>loan_status</th>\n",
       "    </tr>\n",
       "  </thead>\n",
       "  <tbody>\n",
       "    <tr>\n",
       "      <th>598381</th>\n",
       "      <td>35</td>\n",
       "      <td>8.18</td>\n",
       "      <td>0</td>\n",
       "      <td>471.3</td>\n",
       "      <td>70000.0</td>\n",
       "      <td>5</td>\n",
       "      <td>19517</td>\n",
       "      <td>0</td>\n",
       "      <td>2</td>\n",
       "      <td>12.7</td>\n",
       "      <td>0.0</td>\n",
       "      <td>0.0</td>\n",
       "      <td>0.0</td>\n",
       "      <td>14142.15</td>\n",
       "      <td>0.0</td>\n",
       "      <td>148.525355</td>\n",
       "      <td>1</td>\n",
       "    </tr>\n",
       "  </tbody>\n",
       "</table>\n",
       "</div>"
      ],
      "text/plain": [
       "        addr_state  int_rate  term  installment  annual_inc  sub_grade  \\\n",
       "598381          35      8.18     0        471.3     70000.0          5   \n",
       "\n",
       "        emp_title  home_ownership  purpose   dti  pub_rec  recoveries  \\\n",
       "598381      19517               0        2  12.7      0.0         0.0   \n",
       "\n",
       "        inq_last_6mths  out_prncp_inv  collection_recovery_fee    solvency  \\\n",
       "598381             0.0       14142.15                      0.0  148.525355   \n",
       "\n",
       "        loan_status  \n",
       "598381            1  "
      ]
     },
     "execution_count": 42,
     "metadata": {},
     "output_type": "execute_result"
    }
   ],
   "source": [
    "new_data.head(1)"
   ]
  },
  {
   "cell_type": "markdown",
   "metadata": {},
   "source": [
    "# And now scaler"
   ]
  },
  {
   "cell_type": "code",
   "execution_count": 43,
   "metadata": {},
   "outputs": [],
   "source": [
    "from sklearn.preprocessing import StandardScaler\n",
    "scaler = StandardScaler()\n"
   ]
  },
  {
   "cell_type": "code",
   "execution_count": 44,
   "metadata": {},
   "outputs": [
    {
     "name": "stderr",
     "output_type": "stream",
     "text": [
      "C:\\Users\\user\\Anaconda3\\lib\\site-packages\\ipykernel_launcher.py:3: SettingWithCopyWarning:\n",
      "\n",
      "\n",
      "A value is trying to be set on a copy of a slice from a DataFrame.\n",
      "Try using .loc[row_indexer,col_indexer] = value instead\n",
      "\n",
      "See the caveats in the documentation: http://pandas.pydata.org/pandas-docs/stable/user_guide/indexing.html#returning-a-view-versus-a-copy\n",
      "\n",
      "C:\\Users\\user\\Anaconda3\\lib\\site-packages\\pandas\\core\\indexing.py:494: SettingWithCopyWarning:\n",
      "\n",
      "\n",
      "A value is trying to be set on a copy of a slice from a DataFrame.\n",
      "Try using .loc[row_indexer,col_indexer] = value instead\n",
      "\n",
      "See the caveats in the documentation: http://pandas.pydata.org/pandas-docs/stable/user_guide/indexing.html#returning-a-view-versus-a-copy\n",
      "\n"
     ]
    },
    {
     "data": {
      "text/html": [
       "<div>\n",
       "<style scoped>\n",
       "    .dataframe tbody tr th:only-of-type {\n",
       "        vertical-align: middle;\n",
       "    }\n",
       "\n",
       "    .dataframe tbody tr th {\n",
       "        vertical-align: top;\n",
       "    }\n",
       "\n",
       "    .dataframe thead th {\n",
       "        text-align: right;\n",
       "    }\n",
       "</style>\n",
       "<table border=\"1\" class=\"dataframe\">\n",
       "  <thead>\n",
       "    <tr style=\"text-align: right;\">\n",
       "      <th></th>\n",
       "      <th>addr_state</th>\n",
       "      <th>int_rate</th>\n",
       "      <th>term</th>\n",
       "      <th>installment</th>\n",
       "      <th>annual_inc</th>\n",
       "      <th>sub_grade</th>\n",
       "      <th>emp_title</th>\n",
       "      <th>home_ownership</th>\n",
       "      <th>purpose</th>\n",
       "      <th>dti</th>\n",
       "      <th>pub_rec</th>\n",
       "      <th>recoveries</th>\n",
       "      <th>inq_last_6mths</th>\n",
       "      <th>out_prncp_inv</th>\n",
       "      <th>collection_recovery_fee</th>\n",
       "      <th>solvency</th>\n",
       "      <th>loan_status</th>\n",
       "    </tr>\n",
       "  </thead>\n",
       "  <tbody>\n",
       "    <tr>\n",
       "      <th>598381</th>\n",
       "      <td>35</td>\n",
       "      <td>-1.382471</td>\n",
       "      <td>0</td>\n",
       "      <td>0.109152</td>\n",
       "      <td>-0.038709</td>\n",
       "      <td>5</td>\n",
       "      <td>19517</td>\n",
       "      <td>0</td>\n",
       "      <td>2</td>\n",
       "      <td>-0.687871</td>\n",
       "      <td>-0.336723</td>\n",
       "      <td>-0.293494</td>\n",
       "      <td>-0.713103</td>\n",
       "      <td>0.948401</td>\n",
       "      <td>-0.200793</td>\n",
       "      <td>148.525355</td>\n",
       "      <td>1</td>\n",
       "    </tr>\n",
       "  </tbody>\n",
       "</table>\n",
       "</div>"
      ],
      "text/plain": [
       "        addr_state  int_rate  term  installment  annual_inc  sub_grade  \\\n",
       "598381          35 -1.382471     0     0.109152   -0.038709          5   \n",
       "\n",
       "        emp_title  home_ownership  purpose       dti   pub_rec  recoveries  \\\n",
       "598381      19517               0        2 -0.687871 -0.336723   -0.293494   \n",
       "\n",
       "        inq_last_6mths  out_prncp_inv  collection_recovery_fee    solvency  \\\n",
       "598381       -0.713103       0.948401                -0.200793  148.525355   \n",
       "\n",
       "        loan_status  \n",
       "598381            1  "
      ]
     },
     "execution_count": 44,
     "metadata": {},
     "output_type": "execute_result"
    }
   ],
   "source": [
    "# скейлим цифровые фичи\n",
    "\n",
    "new_data[['int_rate', 'installment', 'annual_inc', 'dti', 'pub_rec', 'recoveries', 'inq_last_6mths', 'collection_recovery_fee', 'out_prncp_inv']] = scaler.fit_transform(new_data[['int_rate', 'installment', 'annual_inc', 'dti', 'pub_rec', 'recoveries', 'inq_last_6mths', 'collection_recovery_fee', 'out_prncp_inv']])\n",
    "new_data.head(1)\n",
    "\n",
    "# new_data[['int_rate', 'funded_amnt_inv', 'annual_inc', 'dti', 'pub_rec', 'recoveries', 'inq_last_6mths', 'collection_recovery_fee', 'out_prncp_inv']] = scaler.fit_transform(new_data[['int_rate', 'funded_amnt_inv', 'annual_inc', 'dti', 'pub_rec', 'recoveries', 'inq_last_6mths', 'collection_recovery_fee', 'out_prncp_inv']])\n",
    "# new_data.head(1)\n",
    "\n"
   ]
  },
  {
   "cell_type": "code",
   "execution_count": 45,
   "metadata": {},
   "outputs": [],
   "source": [
    "# train/test split\n",
    "\n",
    "X = new_data.drop('loan_status', axis=1)\n",
    "y = new_data['loan_status']\n",
    "\n",
    "X_train, X_test, y_train, y_test = train_test_split(X, y)"
   ]
  },
  {
   "cell_type": "code",
   "execution_count": 46,
   "metadata": {},
   "outputs": [
    {
     "data": {
      "text/html": [
       "<div>\n",
       "<style scoped>\n",
       "    .dataframe tbody tr th:only-of-type {\n",
       "        vertical-align: middle;\n",
       "    }\n",
       "\n",
       "    .dataframe tbody tr th {\n",
       "        vertical-align: top;\n",
       "    }\n",
       "\n",
       "    .dataframe thead th {\n",
       "        text-align: right;\n",
       "    }\n",
       "</style>\n",
       "<table border=\"1\" class=\"dataframe\">\n",
       "  <thead>\n",
       "    <tr style=\"text-align: right;\">\n",
       "      <th></th>\n",
       "      <th>addr_state</th>\n",
       "      <th>int_rate</th>\n",
       "      <th>term</th>\n",
       "      <th>installment</th>\n",
       "      <th>annual_inc</th>\n",
       "      <th>sub_grade</th>\n",
       "      <th>emp_title</th>\n",
       "      <th>home_ownership</th>\n",
       "      <th>purpose</th>\n",
       "      <th>dti</th>\n",
       "      <th>pub_rec</th>\n",
       "      <th>recoveries</th>\n",
       "      <th>inq_last_6mths</th>\n",
       "      <th>out_prncp_inv</th>\n",
       "      <th>collection_recovery_fee</th>\n",
       "      <th>solvency</th>\n",
       "    </tr>\n",
       "  </thead>\n",
       "  <tbody>\n",
       "    <tr>\n",
       "      <th>598381</th>\n",
       "      <td>35</td>\n",
       "      <td>-1.382471</td>\n",
       "      <td>0</td>\n",
       "      <td>0.109152</td>\n",
       "      <td>-0.038709</td>\n",
       "      <td>5</td>\n",
       "      <td>19517</td>\n",
       "      <td>0</td>\n",
       "      <td>2</td>\n",
       "      <td>-0.687871</td>\n",
       "      <td>-0.336723</td>\n",
       "      <td>-0.293494</td>\n",
       "      <td>-0.713103</td>\n",
       "      <td>0.948401</td>\n",
       "      <td>-0.200793</td>\n",
       "      <td>148.525355</td>\n",
       "    </tr>\n",
       "    <tr>\n",
       "      <th>59642</th>\n",
       "      <td>4</td>\n",
       "      <td>-1.054053</td>\n",
       "      <td>0</td>\n",
       "      <td>-0.761273</td>\n",
       "      <td>-0.256983</td>\n",
       "      <td>5</td>\n",
       "      <td>15372</td>\n",
       "      <td>4</td>\n",
       "      <td>1</td>\n",
       "      <td>-0.004004</td>\n",
       "      <td>-0.336723</td>\n",
       "      <td>-0.293494</td>\n",
       "      <td>-0.713103</td>\n",
       "      <td>-0.439815</td>\n",
       "      <td>-0.200793</td>\n",
       "      <td>214.091086</td>\n",
       "    </tr>\n",
       "    <tr>\n",
       "      <th>386405</th>\n",
       "      <td>45</td>\n",
       "      <td>-0.322275</td>\n",
       "      <td>0</td>\n",
       "      <td>-0.545900</td>\n",
       "      <td>-0.329741</td>\n",
       "      <td>10</td>\n",
       "      <td>25289</td>\n",
       "      <td>4</td>\n",
       "      <td>2</td>\n",
       "      <td>-0.861280</td>\n",
       "      <td>1.597391</td>\n",
       "      <td>-0.293494</td>\n",
       "      <td>0.113290</td>\n",
       "      <td>-0.217200</td>\n",
       "      <td>-0.200793</td>\n",
       "      <td>161.316341</td>\n",
       "    </tr>\n",
       "    <tr>\n",
       "      <th>159333</th>\n",
       "      <td>35</td>\n",
       "      <td>-0.514036</td>\n",
       "      <td>0</td>\n",
       "      <td>0.904064</td>\n",
       "      <td>-0.402500</td>\n",
       "      <td>7</td>\n",
       "      <td>30510</td>\n",
       "      <td>0</td>\n",
       "      <td>1</td>\n",
       "      <td>1.463866</td>\n",
       "      <td>-0.336723</td>\n",
       "      <td>-0.293494</td>\n",
       "      <td>-0.713103</td>\n",
       "      <td>-0.766648</td>\n",
       "      <td>-0.200793</td>\n",
       "      <td>67.456154</td>\n",
       "    </tr>\n",
       "    <tr>\n",
       "      <th>355126</th>\n",
       "      <td>9</td>\n",
       "      <td>-0.613223</td>\n",
       "      <td>1</td>\n",
       "      <td>-0.298373</td>\n",
       "      <td>-0.256983</td>\n",
       "      <td>8</td>\n",
       "      <td>41719</td>\n",
       "      <td>4</td>\n",
       "      <td>1</td>\n",
       "      <td>0.522329</td>\n",
       "      <td>-0.336723</td>\n",
       "      <td>-0.293494</td>\n",
       "      <td>-0.713103</td>\n",
       "      <td>0.778221</td>\n",
       "      <td>-0.200793</td>\n",
       "      <td>148.279953</td>\n",
       "    </tr>\n",
       "  </tbody>\n",
       "</table>\n",
       "</div>"
      ],
      "text/plain": [
       "        addr_state  int_rate  term  installment  annual_inc  sub_grade  \\\n",
       "598381          35 -1.382471     0     0.109152   -0.038709          5   \n",
       "59642            4 -1.054053     0    -0.761273   -0.256983          5   \n",
       "386405          45 -0.322275     0    -0.545900   -0.329741         10   \n",
       "159333          35 -0.514036     0     0.904064   -0.402500          7   \n",
       "355126           9 -0.613223     1    -0.298373   -0.256983          8   \n",
       "\n",
       "        emp_title  home_ownership  purpose       dti   pub_rec  recoveries  \\\n",
       "598381      19517               0        2 -0.687871 -0.336723   -0.293494   \n",
       "59642       15372               4        1 -0.004004 -0.336723   -0.293494   \n",
       "386405      25289               4        2 -0.861280  1.597391   -0.293494   \n",
       "159333      30510               0        1  1.463866 -0.336723   -0.293494   \n",
       "355126      41719               4        1  0.522329 -0.336723   -0.293494   \n",
       "\n",
       "        inq_last_6mths  out_prncp_inv  collection_recovery_fee    solvency  \n",
       "598381       -0.713103       0.948401                -0.200793  148.525355  \n",
       "59642        -0.713103      -0.439815                -0.200793  214.091086  \n",
       "386405        0.113290      -0.217200                -0.200793  161.316341  \n",
       "159333       -0.713103      -0.766648                -0.200793   67.456154  \n",
       "355126       -0.713103       0.778221                -0.200793  148.279953  "
      ]
     },
     "execution_count": 46,
     "metadata": {},
     "output_type": "execute_result"
    }
   ],
   "source": [
    "X.head()"
   ]
  },
  {
   "cell_type": "code",
   "execution_count": 47,
   "metadata": {},
   "outputs": [
    {
     "name": "stdout",
     "output_type": "stream",
     "text": [
      "0:\tlearn: 0.6197500\ttotal: 42ms\tremaining: 8.35s\n",
      "1:\tlearn: 0.5743884\ttotal: 81.1ms\tremaining: 8.03s\n",
      "2:\tlearn: 0.5487939\ttotal: 120ms\tremaining: 7.9s\n",
      "3:\tlearn: 0.5384140\ttotal: 160ms\tremaining: 7.82s\n",
      "4:\tlearn: 0.5239113\ttotal: 199ms\tremaining: 7.75s\n",
      "5:\tlearn: 0.5145295\ttotal: 246ms\tremaining: 7.96s\n",
      "6:\tlearn: 0.5092207\ttotal: 294ms\tremaining: 8.1s\n",
      "7:\tlearn: 0.5049115\ttotal: 332ms\tremaining: 7.96s\n",
      "8:\tlearn: 0.5014456\ttotal: 370ms\tremaining: 7.86s\n",
      "9:\tlearn: 0.4970429\ttotal: 412ms\tremaining: 7.83s\n",
      "10:\tlearn: 0.4944565\ttotal: 454ms\tremaining: 7.81s\n",
      "11:\tlearn: 0.4913837\ttotal: 500ms\tremaining: 7.83s\n",
      "12:\tlearn: 0.4893522\ttotal: 540ms\tremaining: 7.77s\n",
      "13:\tlearn: 0.4879151\ttotal: 580ms\tremaining: 7.71s\n",
      "14:\tlearn: 0.4860756\ttotal: 623ms\tremaining: 7.68s\n",
      "15:\tlearn: 0.4849409\ttotal: 661ms\tremaining: 7.6s\n",
      "16:\tlearn: 0.4840534\ttotal: 694ms\tremaining: 7.47s\n",
      "17:\tlearn: 0.4833003\ttotal: 735ms\tremaining: 7.43s\n",
      "18:\tlearn: 0.4818009\ttotal: 775ms\tremaining: 7.38s\n",
      "19:\tlearn: 0.4810739\ttotal: 812ms\tremaining: 7.31s\n",
      "20:\tlearn: 0.4804515\ttotal: 847ms\tremaining: 7.22s\n",
      "21:\tlearn: 0.4798689\ttotal: 888ms\tremaining: 7.19s\n",
      "22:\tlearn: 0.4791964\ttotal: 932ms\tremaining: 7.17s\n",
      "23:\tlearn: 0.4786842\ttotal: 976ms\tremaining: 7.16s\n",
      "24:\tlearn: 0.4781328\ttotal: 1.01s\tremaining: 7.11s\n",
      "25:\tlearn: 0.4777664\ttotal: 1.06s\tremaining: 7.09s\n",
      "26:\tlearn: 0.4773594\ttotal: 1.1s\tremaining: 7.08s\n",
      "27:\tlearn: 0.4770286\ttotal: 1.15s\tremaining: 7.08s\n",
      "28:\tlearn: 0.4767669\ttotal: 1.19s\tremaining: 7.04s\n",
      "29:\tlearn: 0.4765486\ttotal: 1.23s\tremaining: 6.97s\n",
      "30:\tlearn: 0.4761401\ttotal: 1.27s\tremaining: 6.93s\n",
      "31:\tlearn: 0.4758704\ttotal: 1.31s\tremaining: 6.87s\n",
      "32:\tlearn: 0.4755351\ttotal: 1.35s\tremaining: 6.81s\n",
      "33:\tlearn: 0.4752811\ttotal: 1.39s\tremaining: 6.76s\n",
      "34:\tlearn: 0.4751152\ttotal: 1.43s\tremaining: 6.72s\n",
      "35:\tlearn: 0.4748207\ttotal: 1.46s\tremaining: 6.67s\n",
      "36:\tlearn: 0.4745933\ttotal: 1.51s\tremaining: 6.64s\n",
      "37:\tlearn: 0.4743723\ttotal: 1.54s\tremaining: 6.58s\n",
      "38:\tlearn: 0.4741770\ttotal: 1.58s\tremaining: 6.53s\n",
      "39:\tlearn: 0.4740048\ttotal: 1.62s\tremaining: 6.49s\n",
      "40:\tlearn: 0.4738639\ttotal: 1.66s\tremaining: 6.45s\n",
      "41:\tlearn: 0.4736923\ttotal: 1.71s\tremaining: 6.42s\n",
      "42:\tlearn: 0.4735135\ttotal: 1.75s\tremaining: 6.38s\n",
      "43:\tlearn: 0.4732974\ttotal: 1.78s\tremaining: 6.31s\n",
      "44:\tlearn: 0.4732029\ttotal: 1.82s\tremaining: 6.27s\n",
      "45:\tlearn: 0.4730207\ttotal: 1.86s\tremaining: 6.23s\n",
      "46:\tlearn: 0.4728560\ttotal: 1.91s\tremaining: 6.2s\n",
      "47:\tlearn: 0.4727487\ttotal: 1.95s\tremaining: 6.16s\n",
      "48:\tlearn: 0.4726212\ttotal: 1.98s\tremaining: 6.11s\n",
      "49:\tlearn: 0.4724945\ttotal: 2.02s\tremaining: 6.07s\n",
      "50:\tlearn: 0.4722952\ttotal: 2.06s\tremaining: 6.03s\n",
      "51:\tlearn: 0.4721777\ttotal: 2.1s\tremaining: 5.98s\n",
      "52:\tlearn: 0.4721014\ttotal: 2.15s\tremaining: 5.95s\n",
      "53:\tlearn: 0.4719809\ttotal: 2.18s\tremaining: 5.9s\n",
      "54:\tlearn: 0.4717325\ttotal: 2.22s\tremaining: 5.86s\n",
      "55:\tlearn: 0.4716509\ttotal: 2.26s\tremaining: 5.8s\n",
      "56:\tlearn: 0.4715865\ttotal: 2.29s\tremaining: 5.75s\n",
      "57:\tlearn: 0.4714402\ttotal: 2.33s\tremaining: 5.69s\n",
      "58:\tlearn: 0.4712250\ttotal: 2.37s\tremaining: 5.66s\n",
      "59:\tlearn: 0.4710248\ttotal: 2.41s\tremaining: 5.61s\n",
      "60:\tlearn: 0.4708117\ttotal: 2.45s\tremaining: 5.58s\n",
      "61:\tlearn: 0.4706905\ttotal: 2.49s\tremaining: 5.55s\n",
      "62:\tlearn: 0.4706004\ttotal: 2.53s\tremaining: 5.5s\n",
      "63:\tlearn: 0.4705367\ttotal: 2.57s\tremaining: 5.46s\n",
      "64:\tlearn: 0.4704509\ttotal: 2.61s\tremaining: 5.43s\n",
      "65:\tlearn: 0.4703635\ttotal: 2.66s\tremaining: 5.4s\n",
      "66:\tlearn: 0.4702298\ttotal: 2.69s\tremaining: 5.35s\n",
      "67:\tlearn: 0.4701294\ttotal: 2.73s\tremaining: 5.29s\n",
      "68:\tlearn: 0.4700505\ttotal: 2.77s\tremaining: 5.25s\n",
      "69:\tlearn: 0.4699648\ttotal: 2.81s\tremaining: 5.21s\n",
      "70:\tlearn: 0.4699140\ttotal: 2.85s\tremaining: 5.18s\n",
      "71:\tlearn: 0.4698629\ttotal: 2.9s\tremaining: 5.16s\n",
      "72:\tlearn: 0.4697994\ttotal: 2.94s\tremaining: 5.12s\n",
      "73:\tlearn: 0.4697186\ttotal: 2.98s\tremaining: 5.08s\n",
      "74:\tlearn: 0.4696561\ttotal: 3.02s\tremaining: 5.04s\n",
      "75:\tlearn: 0.4695959\ttotal: 3.06s\tremaining: 5s\n",
      "76:\tlearn: 0.4695339\ttotal: 3.1s\tremaining: 4.96s\n",
      "77:\tlearn: 0.4693589\ttotal: 3.15s\tremaining: 4.93s\n",
      "78:\tlearn: 0.4693145\ttotal: 3.2s\tremaining: 4.89s\n",
      "79:\tlearn: 0.4691394\ttotal: 3.24s\tremaining: 4.86s\n",
      "80:\tlearn: 0.4689337\ttotal: 3.28s\tremaining: 4.82s\n",
      "81:\tlearn: 0.4688448\ttotal: 3.32s\tremaining: 4.78s\n",
      "82:\tlearn: 0.4687309\ttotal: 3.36s\tremaining: 4.73s\n",
      "83:\tlearn: 0.4686742\ttotal: 3.39s\tremaining: 4.68s\n",
      "84:\tlearn: 0.4686306\ttotal: 3.43s\tremaining: 4.64s\n",
      "85:\tlearn: 0.4685561\ttotal: 3.47s\tremaining: 4.6s\n",
      "86:\tlearn: 0.4683888\ttotal: 3.51s\tremaining: 4.56s\n",
      "87:\tlearn: 0.4683294\ttotal: 3.55s\tremaining: 4.52s\n",
      "88:\tlearn: 0.4682872\ttotal: 3.59s\tremaining: 4.48s\n",
      "89:\tlearn: 0.4682215\ttotal: 3.63s\tremaining: 4.44s\n",
      "90:\tlearn: 0.4681061\ttotal: 3.67s\tremaining: 4.4s\n",
      "91:\tlearn: 0.4680249\ttotal: 3.71s\tremaining: 4.36s\n",
      "92:\tlearn: 0.4679868\ttotal: 3.75s\tremaining: 4.32s\n",
      "93:\tlearn: 0.4678748\ttotal: 3.79s\tremaining: 4.28s\n",
      "94:\tlearn: 0.4678085\ttotal: 3.83s\tremaining: 4.23s\n",
      "95:\tlearn: 0.4677660\ttotal: 3.87s\tremaining: 4.2s\n",
      "96:\tlearn: 0.4676776\ttotal: 3.92s\tremaining: 4.16s\n",
      "97:\tlearn: 0.4675729\ttotal: 3.96s\tremaining: 4.12s\n",
      "98:\tlearn: 0.4675419\ttotal: 4s\tremaining: 4.08s\n",
      "99:\tlearn: 0.4674745\ttotal: 4.04s\tremaining: 4.04s\n",
      "100:\tlearn: 0.4673794\ttotal: 4.08s\tremaining: 4s\n",
      "101:\tlearn: 0.4673447\ttotal: 4.12s\tremaining: 3.95s\n",
      "102:\tlearn: 0.4672785\ttotal: 4.16s\tremaining: 3.91s\n",
      "103:\tlearn: 0.4672331\ttotal: 4.2s\tremaining: 3.87s\n",
      "104:\tlearn: 0.4671755\ttotal: 4.24s\tremaining: 3.83s\n",
      "105:\tlearn: 0.4671104\ttotal: 4.28s\tremaining: 3.79s\n",
      "106:\tlearn: 0.4670612\ttotal: 4.32s\tremaining: 3.75s\n",
      "107:\tlearn: 0.4669529\ttotal: 4.35s\tremaining: 3.71s\n",
      "108:\tlearn: 0.4668523\ttotal: 4.39s\tremaining: 3.67s\n",
      "109:\tlearn: 0.4668150\ttotal: 4.43s\tremaining: 3.62s\n",
      "110:\tlearn: 0.4667699\ttotal: 4.47s\tremaining: 3.58s\n",
      "111:\tlearn: 0.4667212\ttotal: 4.51s\tremaining: 3.54s\n",
      "112:\tlearn: 0.4666418\ttotal: 4.54s\tremaining: 3.5s\n",
      "113:\tlearn: 0.4665735\ttotal: 4.58s\tremaining: 3.46s\n",
      "114:\tlearn: 0.4665326\ttotal: 4.62s\tremaining: 3.42s\n",
      "115:\tlearn: 0.4664687\ttotal: 4.66s\tremaining: 3.38s\n",
      "116:\tlearn: 0.4664093\ttotal: 4.7s\tremaining: 3.34s\n",
      "117:\tlearn: 0.4663343\ttotal: 4.75s\tremaining: 3.3s\n",
      "118:\tlearn: 0.4662482\ttotal: 4.8s\tremaining: 3.26s\n",
      "119:\tlearn: 0.4661837\ttotal: 4.83s\tremaining: 3.22s\n",
      "120:\tlearn: 0.4660924\ttotal: 4.88s\tremaining: 3.18s\n",
      "121:\tlearn: 0.4659328\ttotal: 4.92s\tremaining: 3.15s\n",
      "122:\tlearn: 0.4658285\ttotal: 4.96s\tremaining: 3.1s\n",
      "123:\tlearn: 0.4657694\ttotal: 5s\tremaining: 3.07s\n",
      "124:\tlearn: 0.4656217\ttotal: 5.04s\tremaining: 3.03s\n",
      "125:\tlearn: 0.4655652\ttotal: 5.08s\tremaining: 2.99s\n",
      "126:\tlearn: 0.4655005\ttotal: 5.12s\tremaining: 2.94s\n",
      "127:\tlearn: 0.4654470\ttotal: 5.16s\tremaining: 2.9s\n",
      "128:\tlearn: 0.4653853\ttotal: 5.21s\tremaining: 2.87s\n",
      "129:\tlearn: 0.4652889\ttotal: 5.25s\tremaining: 2.83s\n",
      "130:\tlearn: 0.4651005\ttotal: 5.29s\tremaining: 2.79s\n",
      "131:\tlearn: 0.4650356\ttotal: 5.33s\tremaining: 2.75s\n",
      "132:\tlearn: 0.4649876\ttotal: 5.37s\tremaining: 2.71s\n",
      "133:\tlearn: 0.4648909\ttotal: 5.41s\tremaining: 2.67s\n",
      "134:\tlearn: 0.4648482\ttotal: 5.46s\tremaining: 2.63s\n",
      "135:\tlearn: 0.4647399\ttotal: 5.5s\tremaining: 2.59s\n",
      "136:\tlearn: 0.4646862\ttotal: 5.54s\tremaining: 2.54s\n",
      "137:\tlearn: 0.4646172\ttotal: 5.58s\tremaining: 2.5s\n",
      "138:\tlearn: 0.4645471\ttotal: 5.62s\tremaining: 2.47s\n",
      "139:\tlearn: 0.4644540\ttotal: 5.66s\tremaining: 2.42s\n",
      "140:\tlearn: 0.4643835\ttotal: 5.7s\tremaining: 2.38s\n",
      "141:\tlearn: 0.4642731\ttotal: 5.74s\tremaining: 2.35s\n",
      "142:\tlearn: 0.4642167\ttotal: 5.78s\tremaining: 2.3s\n",
      "143:\tlearn: 0.4641591\ttotal: 5.82s\tremaining: 2.26s\n",
      "144:\tlearn: 0.4640815\ttotal: 5.86s\tremaining: 2.22s\n",
      "145:\tlearn: 0.4640046\ttotal: 5.91s\tremaining: 2.19s\n",
      "146:\tlearn: 0.4639249\ttotal: 5.95s\tremaining: 2.15s\n",
      "147:\tlearn: 0.4638762\ttotal: 5.99s\tremaining: 2.1s\n",
      "148:\tlearn: 0.4638173\ttotal: 6.03s\tremaining: 2.06s\n",
      "149:\tlearn: 0.4637116\ttotal: 6.07s\tremaining: 2.02s\n",
      "150:\tlearn: 0.4636484\ttotal: 6.11s\tremaining: 1.98s\n",
      "151:\tlearn: 0.4635928\ttotal: 6.15s\tremaining: 1.94s\n",
      "152:\tlearn: 0.4635316\ttotal: 6.19s\tremaining: 1.9s\n",
      "153:\tlearn: 0.4634700\ttotal: 6.23s\tremaining: 1.86s\n",
      "154:\tlearn: 0.4634211\ttotal: 6.27s\tremaining: 1.82s\n",
      "155:\tlearn: 0.4633513\ttotal: 6.31s\tremaining: 1.78s\n",
      "156:\tlearn: 0.4633081\ttotal: 6.35s\tremaining: 1.74s\n",
      "157:\tlearn: 0.4632581\ttotal: 6.39s\tremaining: 1.7s\n",
      "158:\tlearn: 0.4631925\ttotal: 6.43s\tremaining: 1.66s\n",
      "159:\tlearn: 0.4631476\ttotal: 6.47s\tremaining: 1.62s\n",
      "160:\tlearn: 0.4630859\ttotal: 6.51s\tremaining: 1.58s\n",
      "161:\tlearn: 0.4630144\ttotal: 6.55s\tremaining: 1.54s\n",
      "162:\tlearn: 0.4629626\ttotal: 6.6s\tremaining: 1.5s\n",
      "163:\tlearn: 0.4628933\ttotal: 6.63s\tremaining: 1.46s\n"
     ]
    },
    {
     "name": "stdout",
     "output_type": "stream",
     "text": [
      "164:\tlearn: 0.4628350\ttotal: 6.68s\tremaining: 1.42s\n",
      "165:\tlearn: 0.4627796\ttotal: 6.72s\tremaining: 1.38s\n",
      "166:\tlearn: 0.4627069\ttotal: 6.76s\tremaining: 1.34s\n",
      "167:\tlearn: 0.4626541\ttotal: 6.8s\tremaining: 1.3s\n",
      "168:\tlearn: 0.4625847\ttotal: 6.85s\tremaining: 1.25s\n",
      "169:\tlearn: 0.4625448\ttotal: 6.89s\tremaining: 1.22s\n",
      "170:\tlearn: 0.4624891\ttotal: 6.94s\tremaining: 1.18s\n",
      "171:\tlearn: 0.4624241\ttotal: 6.98s\tremaining: 1.14s\n",
      "172:\tlearn: 0.4623781\ttotal: 7.01s\tremaining: 1.09s\n",
      "173:\tlearn: 0.4623159\ttotal: 7.05s\tremaining: 1.05s\n",
      "174:\tlearn: 0.4622717\ttotal: 7.09s\tremaining: 1.01s\n",
      "175:\tlearn: 0.4621998\ttotal: 7.14s\tremaining: 973ms\n",
      "176:\tlearn: 0.4621042\ttotal: 7.18s\tremaining: 933ms\n",
      "177:\tlearn: 0.4620292\ttotal: 7.22s\tremaining: 893ms\n",
      "178:\tlearn: 0.4619513\ttotal: 7.26s\tremaining: 852ms\n",
      "179:\tlearn: 0.4618748\ttotal: 7.31s\tremaining: 812ms\n",
      "180:\tlearn: 0.4618139\ttotal: 7.36s\tremaining: 772ms\n",
      "181:\tlearn: 0.4617526\ttotal: 7.4s\tremaining: 732ms\n",
      "182:\tlearn: 0.4616113\ttotal: 7.44s\tremaining: 691ms\n",
      "183:\tlearn: 0.4615496\ttotal: 7.48s\tremaining: 650ms\n",
      "184:\tlearn: 0.4614893\ttotal: 7.52s\tremaining: 610ms\n",
      "185:\tlearn: 0.4614525\ttotal: 7.56s\tremaining: 569ms\n",
      "186:\tlearn: 0.4613954\ttotal: 7.6s\tremaining: 528ms\n",
      "187:\tlearn: 0.4613567\ttotal: 7.63s\tremaining: 487ms\n",
      "188:\tlearn: 0.4613131\ttotal: 7.68s\tremaining: 447ms\n",
      "189:\tlearn: 0.4612653\ttotal: 7.72s\tremaining: 406ms\n",
      "190:\tlearn: 0.4612258\ttotal: 7.76s\tremaining: 366ms\n",
      "191:\tlearn: 0.4611618\ttotal: 7.8s\tremaining: 325ms\n",
      "192:\tlearn: 0.4610853\ttotal: 7.84s\tremaining: 284ms\n",
      "193:\tlearn: 0.4610462\ttotal: 7.88s\tremaining: 244ms\n",
      "194:\tlearn: 0.4609797\ttotal: 7.93s\tremaining: 203ms\n",
      "195:\tlearn: 0.4609345\ttotal: 7.97s\tremaining: 163ms\n",
      "196:\tlearn: 0.4608702\ttotal: 8.01s\tremaining: 122ms\n",
      "197:\tlearn: 0.4608320\ttotal: 8.05s\tremaining: 81.3ms\n",
      "198:\tlearn: 0.4607727\ttotal: 8.09s\tremaining: 40.6ms\n",
      "199:\tlearn: 0.4607282\ttotal: 8.13s\tremaining: 0us\n"
     ]
    },
    {
     "data": {
      "text/plain": [
       "<catboost.core.CatBoostClassifier at 0xfd01e02d88>"
      ]
     },
     "execution_count": 47,
     "metadata": {},
     "output_type": "execute_result"
    }
   ],
   "source": [
    "model_cat2 = CatBoostClassifier(iterations=200, depth=5, learning_rate=0.1)\n",
    "\n",
    "model_cat2.fit(X_train, y_train)"
   ]
  },
  {
   "cell_type": "code",
   "execution_count": 48,
   "metadata": {},
   "outputs": [],
   "source": [
    "test_y_pred2 = model_cat2.predict(X_test)"
   ]
  },
  {
   "cell_type": "code",
   "execution_count": 49,
   "metadata": {},
   "outputs": [
    {
     "name": "stdout",
     "output_type": "stream",
     "text": [
      "Sklearn CatBoost classifier:\n",
      " - roc_auc_score:  0.83898\n"
     ]
    }
   ],
   "source": [
    "# make predictions on a test set and get AUC score\n",
    "\n",
    "print(\"Sklearn CatBoost classifier:\")\n",
    "y_pred2 = model_cat2.predict_proba(X_test)\n",
    "\n",
    "print(f\" - roc_auc_score: {roc_auc_score(y_test, y_pred2[:,1]): .5f}\")"
   ]
  },
  {
   "cell_type": "code",
   "execution_count": 50,
   "metadata": {},
   "outputs": [
    {
     "name": "stdout",
     "output_type": "stream",
     "text": [
      "Sklearn CatBoost classifier:\n",
      " - accuracy_score:  0.75302\n",
      " - f1_score:  0.72944\n"
     ]
    }
   ],
   "source": [
    "# Accuracy score, f1_score\n",
    "\n",
    "print(\"Sklearn CatBoost classifier:\")\n",
    "print(f\" - accuracy_score: {accuracy_score(y_test, test_y_pred2): .5f}\")\n",
    "print(f\" - f1_score: {f1_score(y_test, test_y_pred2): .5f}\")"
   ]
  },
  {
   "cell_type": "markdown",
   "metadata": {},
   "source": [
    "# CatBoost Feature Importances"
   ]
  },
  {
   "cell_type": "code",
   "execution_count": 51,
   "metadata": {},
   "outputs": [],
   "source": [
    "importances = model_cat2.feature_importances_\n",
    "indices = np.argsort(importances)[::-1] "
   ]
  },
  {
   "cell_type": "code",
   "execution_count": 52,
   "metadata": {},
   "outputs": [
    {
     "data": {
      "image/png": "[encoded data removed]",
      "text/plain": [
       "<Figure size 432x288 with 1 Axes>"
      ]
     },
     "metadata": {
      "needs_background": "light"
     },
     "output_type": "display_data"
    }
   ],
   "source": [
    "plt.barh(X_train.columns[indices], importances[indices])\n",
    "plt.title('CatBoost Feature Importances')\n",
    "plt.show()"
   ]
  },
  {
   "cell_type": "markdown",
   "metadata": {},
   "source": [
    "# New df with only 10 features"
   ]
  },
  {
   "cell_type": "code",
   "execution_count": 53,
   "metadata": {},
   "outputs": [
    {
     "data": {
      "text/plain": [
       "(129922, 11)"
      ]
     },
     "execution_count": 53,
     "metadata": {},
     "output_type": "execute_result"
    }
   ],
   "source": [
    "# acc 0.837\n",
    "\n",
    "new_df = pd.DataFrame(new_data, columns = ['int_rate', 'sub_grade', 'recoveries', 'emp_title', 'annual_inc', 'installment', 'term', 'out_prncp_inv', 'collection_recovery_fee', 'inq_last_6mths', 'loan_status'])\n",
    "new_df.shape"
   ]
  },
  {
   "cell_type": "code",
   "execution_count": 54,
   "metadata": {},
   "outputs": [],
   "source": [
    "# acc 0.83327\n",
    "\n",
    "# new_df = pd.DataFrame(new_data, columns = ['int_rate', 'sub_grade', 'recoveries', 'out_prncp_inv', 'collection_recovery_fee', 'inq_last_6mths', 'loan_status'])\n",
    "# new_df.shape"
   ]
  },
  {
   "cell_type": "code",
   "execution_count": 55,
   "metadata": {},
   "outputs": [],
   "source": [
    "# train/test split\n",
    "\n",
    "X = new_df.drop('loan_status', axis=1)\n",
    "y = new_df['loan_status']\n",
    "\n",
    "X_train, X_test, y_train, y_test = train_test_split(X, y)"
   ]
  },
  {
   "cell_type": "code",
   "execution_count": 56,
   "metadata": {},
   "outputs": [
    {
     "name": "stdout",
     "output_type": "stream",
     "text": [
      "0:\tlearn: 0.6167752\ttotal: 50.3ms\tremaining: 10s\n",
      "1:\tlearn: 0.5744790\ttotal: 102ms\tremaining: 10.1s\n",
      "2:\tlearn: 0.5487178\ttotal: 148ms\tremaining: 9.7s\n",
      "3:\tlearn: 0.5320663\ttotal: 190ms\tremaining: 9.32s\n",
      "4:\tlearn: 0.5197359\ttotal: 236ms\tremaining: 9.2s\n",
      "5:\tlearn: 0.5121403\ttotal: 283ms\tremaining: 9.15s\n",
      "6:\tlearn: 0.5067431\ttotal: 326ms\tremaining: 8.98s\n",
      "7:\tlearn: 0.5020260\ttotal: 366ms\tremaining: 8.79s\n",
      "8:\tlearn: 0.4978255\ttotal: 410ms\tremaining: 8.71s\n",
      "9:\tlearn: 0.4942742\ttotal: 456ms\tremaining: 8.66s\n",
      "10:\tlearn: 0.4917998\ttotal: 498ms\tremaining: 8.56s\n",
      "11:\tlearn: 0.4896397\ttotal: 543ms\tremaining: 8.51s\n",
      "12:\tlearn: 0.4877729\ttotal: 595ms\tremaining: 8.55s\n",
      "13:\tlearn: 0.4863172\ttotal: 638ms\tremaining: 8.48s\n",
      "14:\tlearn: 0.4850235\ttotal: 682ms\tremaining: 8.41s\n",
      "15:\tlearn: 0.4836814\ttotal: 725ms\tremaining: 8.34s\n",
      "16:\tlearn: 0.4820867\ttotal: 771ms\tremaining: 8.3s\n",
      "17:\tlearn: 0.4811075\ttotal: 814ms\tremaining: 8.23s\n",
      "18:\tlearn: 0.4803694\ttotal: 857ms\tremaining: 8.17s\n",
      "19:\tlearn: 0.4797364\ttotal: 900ms\tremaining: 8.1s\n",
      "20:\tlearn: 0.4791105\ttotal: 942ms\tremaining: 8.03s\n",
      "21:\tlearn: 0.4785501\ttotal: 991ms\tremaining: 8.02s\n",
      "22:\tlearn: 0.4780733\ttotal: 1.04s\tremaining: 8.01s\n",
      "23:\tlearn: 0.4776118\ttotal: 1.09s\tremaining: 8.01s\n",
      "24:\tlearn: 0.4771647\ttotal: 1.13s\tremaining: 7.94s\n",
      "25:\tlearn: 0.4767993\ttotal: 1.17s\tremaining: 7.86s\n",
      "26:\tlearn: 0.4763893\ttotal: 1.22s\tremaining: 7.83s\n",
      "27:\tlearn: 0.4757585\ttotal: 1.27s\tremaining: 7.81s\n",
      "28:\tlearn: 0.4754630\ttotal: 1.31s\tremaining: 7.74s\n",
      "29:\tlearn: 0.4751342\ttotal: 1.35s\tremaining: 7.67s\n",
      "30:\tlearn: 0.4748991\ttotal: 1.4s\tremaining: 7.62s\n",
      "31:\tlearn: 0.4746214\ttotal: 1.44s\tremaining: 7.58s\n",
      "32:\tlearn: 0.4743434\ttotal: 1.49s\tremaining: 7.53s\n",
      "33:\tlearn: 0.4741124\ttotal: 1.56s\tremaining: 7.6s\n",
      "34:\tlearn: 0.4738258\ttotal: 1.62s\tremaining: 7.64s\n",
      "35:\tlearn: 0.4736003\ttotal: 1.67s\tremaining: 7.62s\n",
      "36:\tlearn: 0.4733597\ttotal: 1.72s\tremaining: 7.57s\n",
      "37:\tlearn: 0.4732548\ttotal: 1.76s\tremaining: 7.5s\n",
      "38:\tlearn: 0.4730979\ttotal: 1.8s\tremaining: 7.45s\n",
      "39:\tlearn: 0.4728989\ttotal: 1.85s\tremaining: 7.39s\n",
      "40:\tlearn: 0.4727468\ttotal: 1.89s\tremaining: 7.34s\n",
      "41:\tlearn: 0.4726290\ttotal: 1.93s\tremaining: 7.28s\n",
      "42:\tlearn: 0.4724100\ttotal: 1.98s\tremaining: 7.22s\n",
      "43:\tlearn: 0.4722579\ttotal: 2.03s\tremaining: 7.18s\n",
      "44:\tlearn: 0.4721386\ttotal: 2.08s\tremaining: 7.15s\n",
      "45:\tlearn: 0.4719752\ttotal: 2.12s\tremaining: 7.1s\n",
      "46:\tlearn: 0.4718570\ttotal: 2.16s\tremaining: 7.05s\n",
      "47:\tlearn: 0.4717714\ttotal: 2.21s\tremaining: 6.99s\n",
      "48:\tlearn: 0.4716430\ttotal: 2.25s\tremaining: 6.92s\n",
      "49:\tlearn: 0.4715326\ttotal: 2.29s\tremaining: 6.88s\n",
      "50:\tlearn: 0.4714564\ttotal: 2.34s\tremaining: 6.84s\n",
      "51:\tlearn: 0.4713242\ttotal: 2.38s\tremaining: 6.78s\n",
      "52:\tlearn: 0.4712249\ttotal: 2.42s\tremaining: 6.73s\n",
      "53:\tlearn: 0.4711374\ttotal: 2.47s\tremaining: 6.68s\n",
      "54:\tlearn: 0.4709901\ttotal: 2.52s\tremaining: 6.65s\n",
      "55:\tlearn: 0.4708869\ttotal: 2.58s\tremaining: 6.63s\n",
      "56:\tlearn: 0.4707962\ttotal: 2.63s\tremaining: 6.61s\n",
      "57:\tlearn: 0.4706668\ttotal: 2.68s\tremaining: 6.56s\n",
      "58:\tlearn: 0.4705699\ttotal: 2.72s\tremaining: 6.51s\n",
      "59:\tlearn: 0.4704207\ttotal: 2.77s\tremaining: 6.46s\n",
      "60:\tlearn: 0.4703267\ttotal: 2.81s\tremaining: 6.41s\n",
      "61:\tlearn: 0.4701445\ttotal: 2.86s\tremaining: 6.36s\n",
      "62:\tlearn: 0.4700654\ttotal: 2.9s\tremaining: 6.3s\n",
      "63:\tlearn: 0.4699713\ttotal: 2.94s\tremaining: 6.26s\n",
      "64:\tlearn: 0.4698524\ttotal: 2.99s\tremaining: 6.21s\n",
      "65:\tlearn: 0.4697780\ttotal: 3.03s\tremaining: 6.16s\n",
      "66:\tlearn: 0.4696966\ttotal: 3.08s\tremaining: 6.11s\n",
      "67:\tlearn: 0.4695710\ttotal: 3.12s\tremaining: 6.06s\n",
      "68:\tlearn: 0.4694998\ttotal: 3.16s\tremaining: 6s\n",
      "69:\tlearn: 0.4693494\ttotal: 3.21s\tremaining: 5.96s\n",
      "70:\tlearn: 0.4693071\ttotal: 3.25s\tremaining: 5.9s\n",
      "71:\tlearn: 0.4692398\ttotal: 3.29s\tremaining: 5.85s\n",
      "72:\tlearn: 0.4692071\ttotal: 3.33s\tremaining: 5.8s\n",
      "73:\tlearn: 0.4691525\ttotal: 3.38s\tremaining: 5.75s\n",
      "74:\tlearn: 0.4690740\ttotal: 3.42s\tremaining: 5.7s\n",
      "75:\tlearn: 0.4690029\ttotal: 3.46s\tremaining: 5.64s\n",
      "76:\tlearn: 0.4688034\ttotal: 3.5s\tremaining: 5.59s\n",
      "77:\tlearn: 0.4687388\ttotal: 3.55s\tremaining: 5.55s\n",
      "78:\tlearn: 0.4686556\ttotal: 3.59s\tremaining: 5.5s\n",
      "79:\tlearn: 0.4686156\ttotal: 3.63s\tremaining: 5.45s\n",
      "80:\tlearn: 0.4685508\ttotal: 3.68s\tremaining: 5.4s\n",
      "81:\tlearn: 0.4684706\ttotal: 3.72s\tremaining: 5.35s\n",
      "82:\tlearn: 0.4683327\ttotal: 3.77s\tremaining: 5.31s\n",
      "83:\tlearn: 0.4681349\ttotal: 3.81s\tremaining: 5.26s\n",
      "84:\tlearn: 0.4680768\ttotal: 3.86s\tremaining: 5.22s\n",
      "85:\tlearn: 0.4680392\ttotal: 3.9s\tremaining: 5.17s\n",
      "86:\tlearn: 0.4679828\ttotal: 3.94s\tremaining: 5.12s\n",
      "87:\tlearn: 0.4679003\ttotal: 4s\tremaining: 5.09s\n",
      "88:\tlearn: 0.4678397\ttotal: 4.05s\tremaining: 5.05s\n",
      "89:\tlearn: 0.4678114\ttotal: 4.09s\tremaining: 5s\n",
      "90:\tlearn: 0.4677748\ttotal: 4.13s\tremaining: 4.95s\n",
      "91:\tlearn: 0.4677122\ttotal: 4.18s\tremaining: 4.9s\n",
      "92:\tlearn: 0.4676588\ttotal: 4.22s\tremaining: 4.86s\n",
      "93:\tlearn: 0.4676143\ttotal: 4.27s\tremaining: 4.81s\n",
      "94:\tlearn: 0.4675331\ttotal: 4.31s\tremaining: 4.76s\n",
      "95:\tlearn: 0.4674635\ttotal: 4.35s\tremaining: 4.72s\n",
      "96:\tlearn: 0.4674040\ttotal: 4.4s\tremaining: 4.67s\n",
      "97:\tlearn: 0.4673227\ttotal: 4.45s\tremaining: 4.63s\n",
      "98:\tlearn: 0.4672776\ttotal: 4.49s\tremaining: 4.58s\n",
      "99:\tlearn: 0.4672142\ttotal: 4.53s\tremaining: 4.53s\n",
      "100:\tlearn: 0.4671754\ttotal: 4.58s\tremaining: 4.49s\n",
      "101:\tlearn: 0.4670436\ttotal: 4.62s\tremaining: 4.44s\n",
      "102:\tlearn: 0.4669528\ttotal: 4.68s\tremaining: 4.41s\n",
      "103:\tlearn: 0.4668980\ttotal: 4.72s\tremaining: 4.36s\n",
      "104:\tlearn: 0.4668541\ttotal: 4.76s\tremaining: 4.31s\n",
      "105:\tlearn: 0.4666280\ttotal: 4.81s\tremaining: 4.26s\n",
      "106:\tlearn: 0.4665704\ttotal: 4.86s\tremaining: 4.22s\n",
      "107:\tlearn: 0.4664327\ttotal: 4.9s\tremaining: 4.17s\n",
      "108:\tlearn: 0.4663245\ttotal: 4.95s\tremaining: 4.13s\n",
      "109:\tlearn: 0.4662789\ttotal: 5s\tremaining: 4.09s\n",
      "110:\tlearn: 0.4661754\ttotal: 5.05s\tremaining: 4.05s\n",
      "111:\tlearn: 0.4660744\ttotal: 5.12s\tremaining: 4.02s\n",
      "112:\tlearn: 0.4660264\ttotal: 5.19s\tremaining: 4s\n",
      "113:\tlearn: 0.4659160\ttotal: 5.29s\tremaining: 3.99s\n",
      "114:\tlearn: 0.4658368\ttotal: 5.34s\tremaining: 3.95s\n",
      "115:\tlearn: 0.4657593\ttotal: 5.39s\tremaining: 3.9s\n",
      "116:\tlearn: 0.4656688\ttotal: 5.43s\tremaining: 3.85s\n",
      "117:\tlearn: 0.4655753\ttotal: 5.48s\tremaining: 3.81s\n",
      "118:\tlearn: 0.4655163\ttotal: 5.52s\tremaining: 3.76s\n",
      "119:\tlearn: 0.4654688\ttotal: 5.57s\tremaining: 3.71s\n",
      "120:\tlearn: 0.4653821\ttotal: 5.62s\tremaining: 3.67s\n",
      "121:\tlearn: 0.4653265\ttotal: 5.66s\tremaining: 3.62s\n",
      "122:\tlearn: 0.4652814\ttotal: 5.7s\tremaining: 3.57s\n",
      "123:\tlearn: 0.4651675\ttotal: 5.74s\tremaining: 3.52s\n",
      "124:\tlearn: 0.4651234\ttotal: 5.79s\tremaining: 3.47s\n",
      "125:\tlearn: 0.4650779\ttotal: 5.83s\tremaining: 3.42s\n",
      "126:\tlearn: 0.4650232\ttotal: 5.88s\tremaining: 3.38s\n",
      "127:\tlearn: 0.4649604\ttotal: 5.92s\tremaining: 3.33s\n",
      "128:\tlearn: 0.4648891\ttotal: 5.98s\tremaining: 3.29s\n",
      "129:\tlearn: 0.4648292\ttotal: 6.03s\tremaining: 3.25s\n",
      "130:\tlearn: 0.4646619\ttotal: 6.07s\tremaining: 3.2s\n",
      "131:\tlearn: 0.4645203\ttotal: 6.12s\tremaining: 3.15s\n",
      "132:\tlearn: 0.4644538\ttotal: 6.16s\tremaining: 3.1s\n",
      "133:\tlearn: 0.4643847\ttotal: 6.22s\tremaining: 3.06s\n",
      "134:\tlearn: 0.4642871\ttotal: 6.27s\tremaining: 3.02s\n",
      "135:\tlearn: 0.4642025\ttotal: 6.32s\tremaining: 2.97s\n",
      "136:\tlearn: 0.4641201\ttotal: 6.36s\tremaining: 2.92s\n",
      "137:\tlearn: 0.4640498\ttotal: 6.4s\tremaining: 2.88s\n",
      "138:\tlearn: 0.4639786\ttotal: 6.45s\tremaining: 2.83s\n",
      "139:\tlearn: 0.4639289\ttotal: 6.49s\tremaining: 2.78s\n",
      "140:\tlearn: 0.4638700\ttotal: 6.54s\tremaining: 2.74s\n",
      "141:\tlearn: 0.4637762\ttotal: 6.59s\tremaining: 2.69s\n",
      "142:\tlearn: 0.4637003\ttotal: 6.63s\tremaining: 2.64s\n",
      "143:\tlearn: 0.4636527\ttotal: 6.67s\tremaining: 2.6s\n",
      "144:\tlearn: 0.4635558\ttotal: 6.73s\tremaining: 2.55s\n",
      "145:\tlearn: 0.4634956\ttotal: 6.78s\tremaining: 2.51s\n",
      "146:\tlearn: 0.4633878\ttotal: 6.82s\tremaining: 2.46s\n",
      "147:\tlearn: 0.4633181\ttotal: 6.86s\tremaining: 2.41s\n",
      "148:\tlearn: 0.4630415\ttotal: 6.91s\tremaining: 2.36s\n",
      "149:\tlearn: 0.4629628\ttotal: 6.96s\tremaining: 2.32s\n",
      "150:\tlearn: 0.4628951\ttotal: 7.03s\tremaining: 2.28s\n",
      "151:\tlearn: 0.4628310\ttotal: 7.09s\tremaining: 2.24s\n",
      "152:\tlearn: 0.4627610\ttotal: 7.14s\tremaining: 2.19s\n",
      "153:\tlearn: 0.4627022\ttotal: 7.18s\tremaining: 2.15s\n",
      "154:\tlearn: 0.4626227\ttotal: 7.23s\tremaining: 2.1s\n",
      "155:\tlearn: 0.4625574\ttotal: 7.27s\tremaining: 2.05s\n",
      "156:\tlearn: 0.4624780\ttotal: 7.31s\tremaining: 2s\n",
      "157:\tlearn: 0.4623739\ttotal: 7.36s\tremaining: 1.96s\n",
      "158:\tlearn: 0.4622558\ttotal: 7.4s\tremaining: 1.91s\n",
      "159:\tlearn: 0.4621427\ttotal: 7.45s\tremaining: 1.86s\n",
      "160:\tlearn: 0.4620765\ttotal: 7.49s\tremaining: 1.81s\n",
      "161:\tlearn: 0.4619727\ttotal: 7.54s\tremaining: 1.77s\n"
     ]
    },
    {
     "name": "stdout",
     "output_type": "stream",
     "text": [
      "162:\tlearn: 0.4618550\ttotal: 7.58s\tremaining: 1.72s\n",
      "163:\tlearn: 0.4617666\ttotal: 7.62s\tremaining: 1.67s\n",
      "164:\tlearn: 0.4616694\ttotal: 7.67s\tremaining: 1.63s\n",
      "165:\tlearn: 0.4615951\ttotal: 7.71s\tremaining: 1.58s\n",
      "166:\tlearn: 0.4615331\ttotal: 7.76s\tremaining: 1.53s\n",
      "167:\tlearn: 0.4614354\ttotal: 7.8s\tremaining: 1.49s\n",
      "168:\tlearn: 0.4613624\ttotal: 7.84s\tremaining: 1.44s\n",
      "169:\tlearn: 0.4612816\ttotal: 7.89s\tremaining: 1.39s\n",
      "170:\tlearn: 0.4612051\ttotal: 7.93s\tremaining: 1.34s\n",
      "171:\tlearn: 0.4611295\ttotal: 8s\tremaining: 1.3s\n",
      "172:\tlearn: 0.4610140\ttotal: 8.05s\tremaining: 1.26s\n",
      "173:\tlearn: 0.4609636\ttotal: 8.1s\tremaining: 1.21s\n",
      "174:\tlearn: 0.4609150\ttotal: 8.15s\tremaining: 1.16s\n",
      "175:\tlearn: 0.4608421\ttotal: 8.19s\tremaining: 1.12s\n",
      "176:\tlearn: 0.4607755\ttotal: 8.23s\tremaining: 1.07s\n",
      "177:\tlearn: 0.4607064\ttotal: 8.28s\tremaining: 1.02s\n",
      "178:\tlearn: 0.4606381\ttotal: 8.32s\tremaining: 976ms\n",
      "179:\tlearn: 0.4605705\ttotal: 8.36s\tremaining: 929ms\n",
      "180:\tlearn: 0.4604557\ttotal: 8.41s\tremaining: 883ms\n",
      "181:\tlearn: 0.4603622\ttotal: 8.45s\tremaining: 836ms\n",
      "182:\tlearn: 0.4602800\ttotal: 8.5s\tremaining: 790ms\n",
      "183:\tlearn: 0.4602175\ttotal: 8.55s\tremaining: 744ms\n",
      "184:\tlearn: 0.4601149\ttotal: 8.61s\tremaining: 698ms\n",
      "185:\tlearn: 0.4600073\ttotal: 8.66s\tremaining: 652ms\n",
      "186:\tlearn: 0.4599571\ttotal: 8.71s\tremaining: 606ms\n",
      "187:\tlearn: 0.4598845\ttotal: 8.76s\tremaining: 559ms\n",
      "188:\tlearn: 0.4598102\ttotal: 8.81s\tremaining: 513ms\n",
      "189:\tlearn: 0.4597288\ttotal: 8.85s\tremaining: 466ms\n",
      "190:\tlearn: 0.4596645\ttotal: 8.9s\tremaining: 419ms\n",
      "191:\tlearn: 0.4596073\ttotal: 8.95s\tremaining: 373ms\n",
      "192:\tlearn: 0.4595420\ttotal: 9s\tremaining: 327ms\n",
      "193:\tlearn: 0.4594410\ttotal: 9.05s\tremaining: 280ms\n",
      "194:\tlearn: 0.4593980\ttotal: 9.1s\tremaining: 233ms\n",
      "195:\tlearn: 0.4593144\ttotal: 9.15s\tremaining: 187ms\n",
      "196:\tlearn: 0.4592394\ttotal: 9.2s\tremaining: 140ms\n",
      "197:\tlearn: 0.4591121\ttotal: 9.24s\tremaining: 93.3ms\n",
      "198:\tlearn: 0.4590333\ttotal: 9.29s\tremaining: 46.7ms\n",
      "199:\tlearn: 0.4589197\ttotal: 9.34s\tremaining: 0us\n"
     ]
    },
    {
     "data": {
      "text/plain": [
       "<catboost.core.CatBoostClassifier at 0xfd03a5c488>"
      ]
     },
     "execution_count": 56,
     "metadata": {},
     "output_type": "execute_result"
    }
   ],
   "source": [
    "model_cat3 = CatBoostClassifier(iterations=200, depth=6, learning_rate=0.1)\n",
    "\n",
    "model_cat3.fit(X_train, y_train)"
   ]
  },
  {
   "cell_type": "code",
   "execution_count": 57,
   "metadata": {},
   "outputs": [],
   "source": [
    "test_y_pred3 = model_cat3.predict(X_test)"
   ]
  },
  {
   "cell_type": "code",
   "execution_count": 58,
   "metadata": {},
   "outputs": [
    {
     "name": "stdout",
     "output_type": "stream",
     "text": [
      "Sklearn CatBoost classifier:\n",
      " - roc_auc_score:  0.83714\n"
     ]
    }
   ],
   "source": [
    "# make predictions on a test set and get AUC score\n",
    "\n",
    "print(\"Sklearn CatBoost classifier:\")\n",
    "y_pred3 = model_cat3.predict_proba(X_test)\n",
    "\n",
    "print(f\" - roc_auc_score: {roc_auc_score(y_test, y_pred3[:,1]): .5f}\")"
   ]
  },
  {
   "cell_type": "code",
   "execution_count": 59,
   "metadata": {},
   "outputs": [
    {
     "name": "stdout",
     "output_type": "stream",
     "text": [
      "Sklearn CatBoost classifier:\n",
      " - accuracy_score:  0.75096\n",
      " - f1_score:  0.72592\n"
     ]
    }
   ],
   "source": [
    "# Accuracy score, f1_score\n",
    "\n",
    "print(\"Sklearn CatBoost classifier:\")\n",
    "print(f\" - accuracy_score: {accuracy_score(y_test, test_y_pred3): .5f}\")\n",
    "print(f\" - f1_score: {f1_score(y_test, test_y_pred3): .5f}\")"
   ]
  },
  {
   "cell_type": "code",
   "execution_count": null,
   "metadata": {},
   "outputs": [],
   "source": []
  },
  {
   "cell_type": "code",
   "execution_count": null,
   "metadata": {},
   "outputs": [],
   "source": []
  },
  {
   "cell_type": "markdown",
   "metadata": {},
   "source": [
    "# Строим модель и наны не удаляем и не скейлим"
   ]
  },
  {
   "cell_type": "code",
   "execution_count": 60,
   "metadata": {},
   "outputs": [
    {
     "data": {
      "text/plain": [
       "(138834, 3)"
      ]
     },
     "execution_count": 60,
     "metadata": {},
     "output_type": "execute_result"
    }
   ],
   "source": [
    "df_Nan = pd.DataFrame(normalized_df, columns = ['int_rate', 'recoveries', 'loan_status'])\n",
    "df_Nan.shape"
   ]
  },
  {
   "cell_type": "code",
   "execution_count": 61,
   "metadata": {},
   "outputs": [
    {
     "data": {
      "text/html": [
       "<div>\n",
       "<style scoped>\n",
       "    .dataframe tbody tr th:only-of-type {\n",
       "        vertical-align: middle;\n",
       "    }\n",
       "\n",
       "    .dataframe tbody tr th {\n",
       "        vertical-align: top;\n",
       "    }\n",
       "\n",
       "    .dataframe thead th {\n",
       "        text-align: right;\n",
       "    }\n",
       "</style>\n",
       "<table border=\"1\" class=\"dataframe\">\n",
       "  <thead>\n",
       "    <tr style=\"text-align: right;\">\n",
       "      <th></th>\n",
       "      <th>int_rate</th>\n",
       "      <th>recoveries</th>\n",
       "      <th>loan_status</th>\n",
       "    </tr>\n",
       "  </thead>\n",
       "  <tbody>\n",
       "    <tr>\n",
       "      <th>598381</th>\n",
       "      <td>8.18</td>\n",
       "      <td>0.0</td>\n",
       "      <td>1</td>\n",
       "    </tr>\n",
       "  </tbody>\n",
       "</table>\n",
       "</div>"
      ],
      "text/plain": [
       "        int_rate  recoveries  loan_status\n",
       "598381      8.18         0.0            1"
      ]
     },
     "execution_count": 61,
     "metadata": {},
     "output_type": "execute_result"
    }
   ],
   "source": [
    "df_Nan.head(1)"
   ]
  },
  {
   "cell_type": "code",
   "execution_count": 62,
   "metadata": {},
   "outputs": [],
   "source": [
    "# train/test split\n",
    "\n",
    "X = df_Nan.drop('loan_status', axis=1)\n",
    "y = df_Nan['loan_status']\n",
    "\n",
    "X_train, X_test, y_train, y_test = train_test_split(X, y)"
   ]
  },
  {
   "cell_type": "code",
   "execution_count": 63,
   "metadata": {},
   "outputs": [
    {
     "name": "stdout",
     "output_type": "stream",
     "text": [
      "0:\tlearn: 0.6221087\ttotal: 43.2ms\tremaining: 8.59s\n",
      "1:\tlearn: 0.5828868\ttotal: 79.6ms\tremaining: 7.88s\n",
      "2:\tlearn: 0.5600858\ttotal: 117ms\tremaining: 7.7s\n",
      "3:\tlearn: 0.5467672\ttotal: 157ms\tremaining: 7.7s\n",
      "4:\tlearn: 0.5385329\ttotal: 193ms\tremaining: 7.53s\n",
      "5:\tlearn: 0.5326518\ttotal: 228ms\tremaining: 7.37s\n",
      "6:\tlearn: 0.5284714\ttotal: 269ms\tremaining: 7.42s\n",
      "7:\tlearn: 0.5254664\ttotal: 313ms\tremaining: 7.52s\n",
      "8:\tlearn: 0.5228184\ttotal: 360ms\tremaining: 7.64s\n",
      "9:\tlearn: 0.5210383\ttotal: 403ms\tremaining: 7.66s\n",
      "10:\tlearn: 0.5195432\ttotal: 444ms\tremaining: 7.63s\n",
      "11:\tlearn: 0.5181393\ttotal: 482ms\tremaining: 7.55s\n",
      "12:\tlearn: 0.5171396\ttotal: 524ms\tremaining: 7.54s\n",
      "13:\tlearn: 0.5164143\ttotal: 563ms\tremaining: 7.47s\n",
      "14:\tlearn: 0.5156645\ttotal: 601ms\tremaining: 7.41s\n",
      "15:\tlearn: 0.5150215\ttotal: 638ms\tremaining: 7.34s\n",
      "16:\tlearn: 0.5145166\ttotal: 676ms\tremaining: 7.28s\n",
      "17:\tlearn: 0.5141274\ttotal: 711ms\tremaining: 7.18s\n",
      "18:\tlearn: 0.5137409\ttotal: 746ms\tremaining: 7.1s\n",
      "19:\tlearn: 0.5134608\ttotal: 786ms\tremaining: 7.07s\n",
      "20:\tlearn: 0.5131598\ttotal: 828ms\tremaining: 7.06s\n",
      "21:\tlearn: 0.5129058\ttotal: 874ms\tremaining: 7.07s\n",
      "22:\tlearn: 0.5127387\ttotal: 909ms\tremaining: 7s\n",
      "23:\tlearn: 0.5125421\ttotal: 947ms\tremaining: 6.94s\n",
      "24:\tlearn: 0.5124356\ttotal: 981ms\tremaining: 6.87s\n",
      "25:\tlearn: 0.5122379\ttotal: 1.01s\tremaining: 6.79s\n",
      "26:\tlearn: 0.5121015\ttotal: 1.05s\tremaining: 6.76s\n",
      "27:\tlearn: 0.5120068\ttotal: 1.1s\tremaining: 6.74s\n",
      "28:\tlearn: 0.5118718\ttotal: 1.15s\tremaining: 6.77s\n",
      "29:\tlearn: 0.5115977\ttotal: 1.2s\tremaining: 6.79s\n",
      "30:\tlearn: 0.5114631\ttotal: 1.25s\tremaining: 6.84s\n",
      "31:\tlearn: 0.5112073\ttotal: 1.31s\tremaining: 6.88s\n",
      "32:\tlearn: 0.5111165\ttotal: 1.36s\tremaining: 6.89s\n",
      "33:\tlearn: 0.5109002\ttotal: 1.4s\tremaining: 6.86s\n",
      "34:\tlearn: 0.5108272\ttotal: 1.44s\tremaining: 6.79s\n",
      "35:\tlearn: 0.5106922\ttotal: 1.47s\tremaining: 6.72s\n",
      "36:\tlearn: 0.5105728\ttotal: 1.52s\tremaining: 6.71s\n",
      "37:\tlearn: 0.5104854\ttotal: 1.56s\tremaining: 6.64s\n",
      "38:\tlearn: 0.5103592\ttotal: 1.59s\tremaining: 6.57s\n",
      "39:\tlearn: 0.5101344\ttotal: 1.63s\tremaining: 6.54s\n",
      "40:\tlearn: 0.5100973\ttotal: 1.67s\tremaining: 6.48s\n",
      "41:\tlearn: 0.5099577\ttotal: 1.71s\tremaining: 6.42s\n",
      "42:\tlearn: 0.5097796\ttotal: 1.75s\tremaining: 6.4s\n",
      "43:\tlearn: 0.5097431\ttotal: 1.81s\tremaining: 6.42s\n",
      "44:\tlearn: 0.5096054\ttotal: 1.85s\tremaining: 6.38s\n",
      "45:\tlearn: 0.5095067\ttotal: 1.89s\tremaining: 6.32s\n",
      "46:\tlearn: 0.5093555\ttotal: 1.92s\tremaining: 6.26s\n",
      "47:\tlearn: 0.5093364\ttotal: 1.96s\tremaining: 6.21s\n",
      "48:\tlearn: 0.5092762\ttotal: 1.99s\tremaining: 6.13s\n",
      "49:\tlearn: 0.5092491\ttotal: 2.02s\tremaining: 6.06s\n",
      "50:\tlearn: 0.5091979\ttotal: 2.05s\tremaining: 5.98s\n",
      "51:\tlearn: 0.5089688\ttotal: 2.08s\tremaining: 5.92s\n",
      "52:\tlearn: 0.5088241\ttotal: 2.11s\tremaining: 5.86s\n",
      "53:\tlearn: 0.5087938\ttotal: 2.15s\tremaining: 5.8s\n",
      "54:\tlearn: 0.5087351\ttotal: 2.18s\tremaining: 5.74s\n",
      "55:\tlearn: 0.5086312\ttotal: 2.21s\tremaining: 5.68s\n",
      "56:\tlearn: 0.5086039\ttotal: 2.24s\tremaining: 5.63s\n",
      "57:\tlearn: 0.5085458\ttotal: 2.28s\tremaining: 5.58s\n",
      "58:\tlearn: 0.5084386\ttotal: 2.31s\tremaining: 5.53s\n",
      "59:\tlearn: 0.5084216\ttotal: 2.35s\tremaining: 5.49s\n",
      "60:\tlearn: 0.5083038\ttotal: 2.39s\tremaining: 5.44s\n",
      "61:\tlearn: 0.5082656\ttotal: 2.42s\tremaining: 5.39s\n",
      "62:\tlearn: 0.5082418\ttotal: 2.46s\tremaining: 5.35s\n",
      "63:\tlearn: 0.5081753\ttotal: 2.49s\tremaining: 5.3s\n",
      "64:\tlearn: 0.5081447\ttotal: 2.53s\tremaining: 5.25s\n",
      "65:\tlearn: 0.5080071\ttotal: 2.56s\tremaining: 5.2s\n",
      "66:\tlearn: 0.5079952\ttotal: 2.59s\tremaining: 5.15s\n",
      "67:\tlearn: 0.5079468\ttotal: 2.63s\tremaining: 5.1s\n",
      "68:\tlearn: 0.5079132\ttotal: 2.66s\tremaining: 5.06s\n",
      "69:\tlearn: 0.5078743\ttotal: 2.7s\tremaining: 5.01s\n",
      "70:\tlearn: 0.5077354\ttotal: 2.73s\tremaining: 4.96s\n",
      "71:\tlearn: 0.5077265\ttotal: 2.77s\tremaining: 4.92s\n",
      "72:\tlearn: 0.5076807\ttotal: 2.8s\tremaining: 4.87s\n",
      "73:\tlearn: 0.5076742\ttotal: 2.83s\tremaining: 4.83s\n",
      "74:\tlearn: 0.5076338\ttotal: 2.88s\tremaining: 4.8s\n",
      "75:\tlearn: 0.5074888\ttotal: 2.92s\tremaining: 4.76s\n",
      "76:\tlearn: 0.5073934\ttotal: 2.95s\tremaining: 4.72s\n",
      "77:\tlearn: 0.5073312\ttotal: 2.99s\tremaining: 4.67s\n",
      "78:\tlearn: 0.5073290\ttotal: 3.02s\tremaining: 4.62s\n",
      "79:\tlearn: 0.5072625\ttotal: 3.05s\tremaining: 4.57s\n",
      "80:\tlearn: 0.5072346\ttotal: 3.08s\tremaining: 4.53s\n",
      "81:\tlearn: 0.5071103\ttotal: 3.12s\tremaining: 4.5s\n",
      "82:\tlearn: 0.5070557\ttotal: 3.16s\tremaining: 4.45s\n",
      "83:\tlearn: 0.5068939\ttotal: 3.19s\tremaining: 4.4s\n",
      "84:\tlearn: 0.5068201\ttotal: 3.23s\tremaining: 4.36s\n",
      "85:\tlearn: 0.5067556\ttotal: 3.26s\tremaining: 4.32s\n",
      "86:\tlearn: 0.5067229\ttotal: 3.3s\tremaining: 4.29s\n",
      "87:\tlearn: 0.5067195\ttotal: 3.33s\tremaining: 4.24s\n",
      "88:\tlearn: 0.5066364\ttotal: 3.37s\tremaining: 4.2s\n",
      "89:\tlearn: 0.5065588\ttotal: 3.4s\tremaining: 4.16s\n",
      "90:\tlearn: 0.5065010\ttotal: 3.44s\tremaining: 4.12s\n",
      "91:\tlearn: 0.5064885\ttotal: 3.47s\tremaining: 4.08s\n",
      "92:\tlearn: 0.5064461\ttotal: 3.51s\tremaining: 4.03s\n",
      "93:\tlearn: 0.5063881\ttotal: 3.54s\tremaining: 3.99s\n",
      "94:\tlearn: 0.5063497\ttotal: 3.57s\tremaining: 3.94s\n",
      "95:\tlearn: 0.5063255\ttotal: 3.6s\tremaining: 3.91s\n",
      "96:\tlearn: 0.5062390\ttotal: 3.64s\tremaining: 3.87s\n",
      "97:\tlearn: 0.5061858\ttotal: 3.67s\tremaining: 3.82s\n",
      "98:\tlearn: 0.5061714\ttotal: 3.71s\tremaining: 3.78s\n",
      "99:\tlearn: 0.5061243\ttotal: 3.74s\tremaining: 3.74s\n",
      "100:\tlearn: 0.5060908\ttotal: 3.77s\tremaining: 3.69s\n",
      "101:\tlearn: 0.5060575\ttotal: 3.8s\tremaining: 3.65s\n",
      "102:\tlearn: 0.5059583\ttotal: 3.83s\tremaining: 3.61s\n",
      "103:\tlearn: 0.5059033\ttotal: 3.86s\tremaining: 3.56s\n",
      "104:\tlearn: 0.5058937\ttotal: 3.9s\tremaining: 3.53s\n",
      "105:\tlearn: 0.5058322\ttotal: 3.93s\tremaining: 3.48s\n",
      "106:\tlearn: 0.5057872\ttotal: 3.96s\tremaining: 3.44s\n",
      "107:\tlearn: 0.5056301\ttotal: 4s\tremaining: 3.41s\n",
      "108:\tlearn: 0.5055839\ttotal: 4.03s\tremaining: 3.37s\n",
      "109:\tlearn: 0.5054851\ttotal: 4.06s\tremaining: 3.33s\n",
      "110:\tlearn: 0.5054806\ttotal: 4.09s\tremaining: 3.28s\n",
      "111:\tlearn: 0.5054472\ttotal: 4.12s\tremaining: 3.24s\n",
      "112:\tlearn: 0.5053298\ttotal: 4.15s\tremaining: 3.19s\n",
      "113:\tlearn: 0.5052347\ttotal: 4.18s\tremaining: 3.16s\n",
      "114:\tlearn: 0.5052136\ttotal: 4.22s\tremaining: 3.12s\n",
      "115:\tlearn: 0.5051760\ttotal: 4.25s\tremaining: 3.08s\n",
      "116:\tlearn: 0.5050972\ttotal: 4.29s\tremaining: 3.04s\n",
      "117:\tlearn: 0.5050854\ttotal: 4.32s\tremaining: 3s\n",
      "118:\tlearn: 0.5049414\ttotal: 4.36s\tremaining: 2.97s\n",
      "119:\tlearn: 0.5048131\ttotal: 4.39s\tremaining: 2.93s\n",
      "120:\tlearn: 0.5047363\ttotal: 4.43s\tremaining: 2.89s\n",
      "121:\tlearn: 0.5046876\ttotal: 4.46s\tremaining: 2.85s\n",
      "122:\tlearn: 0.5045842\ttotal: 4.49s\tremaining: 2.81s\n",
      "123:\tlearn: 0.5045198\ttotal: 4.52s\tremaining: 2.77s\n",
      "124:\tlearn: 0.5043585\ttotal: 4.56s\tremaining: 2.73s\n",
      "125:\tlearn: 0.5042807\ttotal: 4.59s\tremaining: 2.69s\n",
      "126:\tlearn: 0.5042335\ttotal: 4.62s\tremaining: 2.65s\n",
      "127:\tlearn: 0.5041195\ttotal: 4.66s\tremaining: 2.62s\n",
      "128:\tlearn: 0.5040605\ttotal: 4.69s\tremaining: 2.58s\n",
      "129:\tlearn: 0.5039544\ttotal: 4.72s\tremaining: 2.54s\n",
      "130:\tlearn: 0.5039403\ttotal: 4.75s\tremaining: 2.5s\n",
      "131:\tlearn: 0.5038645\ttotal: 4.79s\tremaining: 2.46s\n",
      "132:\tlearn: 0.5038026\ttotal: 4.82s\tremaining: 2.43s\n",
      "133:\tlearn: 0.5037171\ttotal: 4.86s\tremaining: 2.39s\n",
      "134:\tlearn: 0.5036355\ttotal: 4.9s\tremaining: 2.36s\n",
      "135:\tlearn: 0.5035547\ttotal: 4.93s\tremaining: 2.32s\n",
      "136:\tlearn: 0.5035440\ttotal: 4.97s\tremaining: 2.29s\n",
      "137:\tlearn: 0.5034941\ttotal: 5.01s\tremaining: 2.25s\n",
      "138:\tlearn: 0.5034607\ttotal: 5.04s\tremaining: 2.21s\n",
      "139:\tlearn: 0.5033539\ttotal: 5.08s\tremaining: 2.18s\n",
      "140:\tlearn: 0.5033000\ttotal: 5.13s\tremaining: 2.15s\n",
      "141:\tlearn: 0.5032726\ttotal: 5.17s\tremaining: 2.11s\n",
      "142:\tlearn: 0.5032041\ttotal: 5.2s\tremaining: 2.07s\n",
      "143:\tlearn: 0.5031917\ttotal: 5.24s\tremaining: 2.04s\n",
      "144:\tlearn: 0.5031306\ttotal: 5.27s\tremaining: 2s\n",
      "145:\tlearn: 0.5030711\ttotal: 5.3s\tremaining: 1.96s\n",
      "146:\tlearn: 0.5029994\ttotal: 5.33s\tremaining: 1.92s\n",
      "147:\tlearn: 0.5029597\ttotal: 5.37s\tremaining: 1.89s\n",
      "148:\tlearn: 0.5029022\ttotal: 5.4s\tremaining: 1.85s\n",
      "149:\tlearn: 0.5028511\ttotal: 5.43s\tremaining: 1.81s\n",
      "150:\tlearn: 0.5028071\ttotal: 5.47s\tremaining: 1.77s\n",
      "151:\tlearn: 0.5027937\ttotal: 5.5s\tremaining: 1.74s\n",
      "152:\tlearn: 0.5027469\ttotal: 5.53s\tremaining: 1.7s\n",
      "153:\tlearn: 0.5027108\ttotal: 5.57s\tremaining: 1.66s\n",
      "154:\tlearn: 0.5026838\ttotal: 5.6s\tremaining: 1.63s\n",
      "155:\tlearn: 0.5026342\ttotal: 5.63s\tremaining: 1.59s\n",
      "156:\tlearn: 0.5026048\ttotal: 5.66s\tremaining: 1.55s\n",
      "157:\tlearn: 0.5025294\ttotal: 5.7s\tremaining: 1.51s\n",
      "158:\tlearn: 0.5024644\ttotal: 5.73s\tremaining: 1.48s\n",
      "159:\tlearn: 0.5024038\ttotal: 5.77s\tremaining: 1.44s\n",
      "160:\tlearn: 0.5023591\ttotal: 5.81s\tremaining: 1.41s\n",
      "161:\tlearn: 0.5023475\ttotal: 5.84s\tremaining: 1.37s\n",
      "162:\tlearn: 0.5023146\ttotal: 5.88s\tremaining: 1.33s\n"
     ]
    },
    {
     "name": "stdout",
     "output_type": "stream",
     "text": [
      "163:\tlearn: 0.5022847\ttotal: 5.92s\tremaining: 1.3s\n",
      "164:\tlearn: 0.5022587\ttotal: 5.95s\tremaining: 1.26s\n",
      "165:\tlearn: 0.5022004\ttotal: 5.98s\tremaining: 1.23s\n",
      "166:\tlearn: 0.5020783\ttotal: 6.02s\tremaining: 1.19s\n",
      "167:\tlearn: 0.5020353\ttotal: 6.05s\tremaining: 1.15s\n",
      "168:\tlearn: 0.5020232\ttotal: 6.08s\tremaining: 1.11s\n",
      "169:\tlearn: 0.5019709\ttotal: 6.11s\tremaining: 1.08s\n",
      "170:\tlearn: 0.5019376\ttotal: 6.14s\tremaining: 1.04s\n",
      "171:\tlearn: 0.5019222\ttotal: 6.17s\tremaining: 1s\n",
      "172:\tlearn: 0.5018939\ttotal: 6.2s\tremaining: 968ms\n",
      "173:\tlearn: 0.5018508\ttotal: 6.24s\tremaining: 932ms\n",
      "174:\tlearn: 0.5018283\ttotal: 6.27s\tremaining: 896ms\n",
      "175:\tlearn: 0.5017988\ttotal: 6.31s\tremaining: 860ms\n",
      "176:\tlearn: 0.5017758\ttotal: 6.34s\tremaining: 824ms\n",
      "177:\tlearn: 0.5017593\ttotal: 6.37s\tremaining: 788ms\n",
      "178:\tlearn: 0.5017240\ttotal: 6.41s\tremaining: 751ms\n",
      "179:\tlearn: 0.5016866\ttotal: 6.44s\tremaining: 715ms\n",
      "180:\tlearn: 0.5016547\ttotal: 6.47s\tremaining: 679ms\n",
      "181:\tlearn: 0.5016363\ttotal: 6.5s\tremaining: 643ms\n",
      "182:\tlearn: 0.5016185\ttotal: 6.53s\tremaining: 607ms\n",
      "183:\tlearn: 0.5015208\ttotal: 6.56s\tremaining: 571ms\n",
      "184:\tlearn: 0.5014154\ttotal: 6.6s\tremaining: 535ms\n",
      "185:\tlearn: 0.5013516\ttotal: 6.63s\tremaining: 499ms\n",
      "186:\tlearn: 0.5013179\ttotal: 6.66s\tremaining: 463ms\n",
      "187:\tlearn: 0.5013093\ttotal: 6.7s\tremaining: 427ms\n",
      "188:\tlearn: 0.5012792\ttotal: 6.73s\tremaining: 391ms\n",
      "189:\tlearn: 0.5012617\ttotal: 6.76s\tremaining: 356ms\n",
      "190:\tlearn: 0.5012269\ttotal: 6.79s\tremaining: 320ms\n",
      "191:\tlearn: 0.5012000\ttotal: 6.82s\tremaining: 284ms\n",
      "192:\tlearn: 0.5011637\ttotal: 6.85s\tremaining: 249ms\n",
      "193:\tlearn: 0.5010867\ttotal: 6.88s\tremaining: 213ms\n",
      "194:\tlearn: 0.5009846\ttotal: 6.92s\tremaining: 177ms\n",
      "195:\tlearn: 0.5009552\ttotal: 6.96s\tremaining: 142ms\n",
      "196:\tlearn: 0.5009133\ttotal: 6.99s\tremaining: 106ms\n",
      "197:\tlearn: 0.5009054\ttotal: 7.02s\tremaining: 70.9ms\n",
      "198:\tlearn: 0.5008982\ttotal: 7.05s\tremaining: 35.4ms\n",
      "199:\tlearn: 0.5008602\ttotal: 7.08s\tremaining: 0us\n"
     ]
    },
    {
     "data": {
      "text/plain": [
       "<catboost.core.CatBoostClassifier at 0xfd6ff53388>"
      ]
     },
     "execution_count": 63,
     "metadata": {},
     "output_type": "execute_result"
    }
   ],
   "source": [
    "model_cat4 = CatBoostClassifier(iterations=200, depth=5, learning_rate=0.1)\n",
    "\n",
    "model_cat4.fit(X_train, y_train)"
   ]
  },
  {
   "cell_type": "code",
   "execution_count": 64,
   "metadata": {},
   "outputs": [],
   "source": [
    "test_y_pred4 = model_cat4.predict(X_test)"
   ]
  },
  {
   "cell_type": "code",
   "execution_count": 65,
   "metadata": {},
   "outputs": [
    {
     "name": "stdout",
     "output_type": "stream",
     "text": [
      "Sklearn CatBoost classifier:\n",
      " - roc_auc_score:  0.81165\n"
     ]
    }
   ],
   "source": [
    "# make predictions on a test set and get AUC score\n",
    "\n",
    "print(\"Sklearn CatBoost classifier:\")\n",
    "y_pred4 = model_cat4.predict_proba(X_test)\n",
    "\n",
    "print(f\" - roc_auc_score: {roc_auc_score(y_test, y_pred4[:,1]): .5f}\")"
   ]
  },
  {
   "cell_type": "code",
   "execution_count": 66,
   "metadata": {},
   "outputs": [
    {
     "name": "stdout",
     "output_type": "stream",
     "text": [
      "Sklearn CatBoost classifier:\n",
      " - accuracy_score:  0.72013\n",
      " - f1_score:  0.69606\n"
     ]
    }
   ],
   "source": [
    "# Accuracy score, f1_score\n",
    "\n",
    "print(\"Sklearn CatBoost classifier:\")\n",
    "print(f\" - accuracy_score: {accuracy_score(y_test, test_y_pred4): .5f}\")\n",
    "print(f\" - f1_score: {f1_score(y_test, test_y_pred4): .5f}\")"
   ]
  },
  {
   "cell_type": "code",
   "execution_count": null,
   "metadata": {},
   "outputs": [],
   "source": []
  }
 ],
 "metadata": {
  "kernelspec": {
   "display_name": "Python 3",
   "language": "python",
   "name": "python3"
  },
  "language_info": {
   "codemirror_mode": {
    "name": "ipython",
    "version": 3
   },
   "file_extension": ".py",
   "mimetype": "text/x-python",
   "name": "python",
   "nbconvert_exporter": "python",
   "pygments_lexer": "ipython3",
   "version": "3.7.4"
  }
 },
 "nbformat": 4,
 "nbformat_minor": 2
}
